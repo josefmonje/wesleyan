{
 "cells": [
  {
   "cell_type": "markdown",
   "metadata": {},
   "source": [
    "# Table of Contents\n",
    "\n",
    "1. [Introduction](./notebooks/Introduction.ipynb)\n",
    "2. [Hello World](./notebooks/Hello World.ipynb)\n",
    "3. [Built-in Types](./notebooks/Built-in Types.ipynb)\n",
    "4. [Control Flow](./notebooks/Control Flow.ipynb)\n",
    "5. [Modules](./notebooks/Modules.ipynb)\n",
    "6. [Coding Standards](./notebooks/Coding Standards.ipynb)\n"
   ]
  },
  {
   "cell_type": "code",
   "execution_count": null,
   "metadata": {},
   "outputs": [],
   "source": []
  }
 ],
 "metadata": {
  "kernelspec": {
   "display_name": "Python 3",
   "language": "python",
   "name": "python3"
  },
  "language_info": {
   "codemirror_mode": {
    "name": "ipython",
    "version": 3
   },
   "file_extension": ".py",
   "mimetype": "text/x-python",
   "name": "python",
   "nbconvert_exporter": "python",
   "pygments_lexer": "ipython3",
   "version": "3.7.2"
  }
 },
 "nbformat": 4,
 "nbformat_minor": 2
}

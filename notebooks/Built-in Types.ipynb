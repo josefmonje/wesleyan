{
 "cells": [
  {
   "cell_type": "markdown",
   "metadata": {},
   "source": [
    "# [Built-in Types](https://docs.python.org/3/library/stdtypes.html#built-in-types)\n",
    "\n",
    "### [Numerics](https://docs.python.org/3/library/stdtypes.html#numeric-types-int-float-complex)\n",
    "\n",
    "#### int, float, complex\n",
    "\n",
    "| Operation  | Description\n",
    "|------------|\n",
    "| `x + y`    | sum of x and y\n",
    "| `x - y`    | difference of x and y\n",
    "| `x * y`    | product of x and y\n",
    "| `x / y`    | quotient of x and y\n",
    "| `-x`       | negation\n",
    "| `+x`       | unchanged\n",
    "| `x // y`   | integer/floor division\n",
    "| `x % y`    | remainder/modulo\n",
    "| `int(x)`   | type conversion\n",
    "| `float(x)` | type conversion\n",
    "| `abs(x)`   | built-in math function"
   ]
  },
  {
   "cell_type": "markdown",
   "metadata": {},
   "source": [
    "##### [Comparisons](https://docs.python.org/3/library/stdtypes.html#comparisons)\n",
    "\n",
    "| Operation | Meaning\n",
    "|-----------|\n",
    "| <\t        | strictly less than\n",
    "| <=        | less than or equal\n",
    "| >         | strictly greater than\n",
    "| >=        | greater than or equal\n",
    "| ==        | equal\n",
    "| !=        | not equal\n",
    "| is        | object identity\n",
    "| is not\t| negated object identity"
   ]
  },
  {
   "cell_type": "code",
   "execution_count": null,
   "metadata": {},
   "outputs": [],
   "source": [
    "print(1_000_000)\n",
    "# added in 3.6 https://docs.python.org/3/whatsnew/3.6.html"
   ]
  },
  {
   "cell_type": "code",
   "execution_count": null,
   "metadata": {},
   "outputs": [],
   "source": [
    "# 1_000_000/0"
   ]
  },
  {
   "cell_type": "markdown",
   "metadata": {},
   "source": [
    "### [Iterators](https://docs.python.org/3/library/stdtypes.html#iterator-types)\n",
    "\n",
    "#### [str](https://docs.python.org/3/library/stdtypes.html#text-sequence-type-str)\n",
    "\n",
    "Strings are sequences of characters\n",
    "\n",
    "* `'single quotes allow \"double\" quotes'`\n",
    "* `\"double quotes allow 'single' quotes\"`\n",
    "* `'''triple quoted\n",
    " strings can\n",
    " have multple\n",
    " lines'''`\n",
    "* `\"\"\"same\n",
    " here\"\"\"`"
   ]
  },
  {
   "cell_type": "code",
   "execution_count": null,
   "metadata": {},
   "outputs": [],
   "source": [
    "# let's see what's inside using help()\n",
    "help('')"
   ]
  },
  {
   "cell_type": "code",
   "execution_count": null,
   "metadata": {},
   "outputs": [],
   "source": [
    "# because help is too verbose\n",
    "dir('')"
   ]
  },
  {
   "cell_type": "code",
   "execution_count": null,
   "metadata": {},
   "outputs": [],
   "source": [
    "# shortcut\n",
    "# ''. # press tab after the dot\n",
    "# in the interpreter: only works on instances"
   ]
  },
  {
   "cell_type": "markdown",
   "metadata": {},
   "source": [
    "##### String methods"
   ]
  },
  {
   "cell_type": "code",
   "execution_count": null,
   "metadata": {},
   "outputs": [],
   "source": [
    "print('hello world'.capitalize())"
   ]
  },
  {
   "cell_type": "code",
   "execution_count": null,
   "metadata": {},
   "outputs": [],
   "source": [
    "print('hello world'.upper())"
   ]
  },
  {
   "cell_type": "code",
   "execution_count": null,
   "metadata": {},
   "outputs": [],
   "source": [
    "print('HELLO WORLD'.lower())"
   ]
  },
  {
   "cell_type": "code",
   "execution_count": null,
   "metadata": {},
   "outputs": [],
   "source": [
    "print('hello world'.startswith('hello'))"
   ]
  },
  {
   "cell_type": "code",
   "execution_count": null,
   "metadata": {},
   "outputs": [],
   "source": [
    "print('hello world'.endswith('world'))"
   ]
  },
  {
   "cell_type": "markdown",
   "metadata": {},
   "source": [
    "##### [String Literals](https://docs.python.org/3/reference/lexical_analysis.html#string-and-bytes-literals)"
   ]
  },
  {
   "cell_type": "code",
   "execution_count": null,
   "metadata": {},
   "outputs": [],
   "source": [
    "# Python 3 strings are unicode\n",
    "print(u'Python 3 strings are unicode')"
   ]
  },
  {
   "cell_type": "markdown",
   "metadata": {},
   "source": [
    "##### Raw Strings for Special characters"
   ]
  },
  {
   "cell_type": "code",
   "execution_count": null,
   "metadata": {},
   "outputs": [],
   "source": [
    "print('1\\t2')  # \\t is a tab character\n",
    "# a backslash is used to escape characters that have a special meaning\n",
    "print('1\\\\t2')"
   ]
  },
  {
   "cell_type": "code",
   "execution_count": null,
   "metadata": {},
   "outputs": [],
   "source": [
    "# raw strings\n",
    "print(r'1\\t2')"
   ]
  },
  {
   "cell_type": "markdown",
   "metadata": {},
   "source": [
    "##### String Formatting in Python"
   ]
  },
  {
   "cell_type": "code",
   "execution_count": null,
   "metadata": {},
   "outputs": [],
   "source": [
    "print('you can literally' + ' ' + 'add strings together')"
   ]
  },
  {
   "cell_type": "code",
   "execution_count": null,
   "metadata": {},
   "outputs": [],
   "source": [
    "print('%s %s' % ('old style', 'string formatting'))"
   ]
  },
  {
   "cell_type": "code",
   "execution_count": null,
   "metadata": {},
   "outputs": [],
   "source": [
    "print('{0} {1} {2}'.format('string', 'formatting with', 'the format method'))"
   ]
  },
  {
   "cell_type": "code",
   "execution_count": null,
   "metadata": {},
   "outputs": [],
   "source": [
    "print('{first_word} {second_word} {third_word}'.format(first_word='string', second_word='formatting with', third_word='keyword arguments'))"
   ]
  },
  {
   "cell_type": "code",
   "execution_count": null,
   "metadata": {},
   "outputs": [],
   "source": [
    "first_word = 'f'\n",
    "second_word = 'strings'\n",
    "print(f'{first_word}-{second_word}!')"
   ]
  },
  {
   "cell_type": "markdown",
   "metadata": {},
   "source": [
    "[Format specifier](https://docs.python.org/3/library/string.html#formatspec)"
   ]
  },
  {
   "cell_type": "code",
   "execution_count": null,
   "metadata": {},
   "outputs": [],
   "source": [
    "'{0:.2f}'.format(3.1415926)"
   ]
  },
  {
   "cell_type": "markdown",
   "metadata": {},
   "source": [
    "##### [Common Sequence Operations](https://docs.python.org/3/library/stdtypes.html#common-sequence-operations)\n",
    "\n",
    "| Operation              | Result                                          \n",
    "|------------------------|\n",
    "| `x in s`               | True if an item of s is equal to x, else False\n",
    "| `x not in s`           | False if an item of s is equal to x, else True\n",
    "| `s + t`                | the concatenation of s and t\n",
    "| `s * n or n * s`       | equivalent to adding s to itself n times\n",
    "| `s[i]`                 | ith item of s, origin 0\n",
    "| `s[i:j]`               | slice of s from i to j\n",
    "| `s[i:j:k]`             | slice of s from i to j with step k\n",
    "| `len(s)`               | length of s\n",
    "| `min(s)`               | smallest item of s\n",
    "| `max(s)`               | largest item of s\n",
    "| `s.index(x[, i[, j]])` | index of the first occurrence of x in s (at or after index i and before index j)\n",
    "| `s.count(x)`           | total number of occurrences of x in s"
   ]
  },
  {
   "cell_type": "markdown",
   "metadata": {},
   "source": [
    "#### [list](https://docs.python.org/3/library/stdtypes.html#lists)\n",
    "\n",
    "Lists are mutable sequences, typically used to store collections of homogeneous items.\n",
    "\n",
    "Lists may be constructed in several ways:\n",
    "\n",
    "* Using a pair of square brackets to denote the empty list: `[]`\n",
    "* Using square brackets, separating items with commas: `[a]`, `[a, b, c]`\n",
    "* Using a list comprehension: `[x for x in iterable]`\n",
    "* Using the type constructor: `list()` or list`(iterable)`\n",
    "* Slice operations result in a new list: `new_list = my_list[1:]`\n",
    "* Using the `list()` built-in for type conversion\n",
    "* Many other operations also produce lists, including the sorted() built-in.\n",
    "\n",
    "Lists implement all of the common and mutable sequence operations."
   ]
  },
  {
   "cell_type": "code",
   "execution_count": null,
   "metadata": {},
   "outputs": [],
   "source": [
    "my_list = []\n",
    "print(my_list)\n",
    "\n",
    "my_list = ['a', 'b', 'c',]\n",
    "print(my_list)\n",
    "\n",
    "print([x for x in my_list])\n",
    "# more on this later"
   ]
  },
  {
   "cell_type": "markdown",
   "metadata": {},
   "source": [
    "Counting an iterable:"
   ]
  },
  {
   "cell_type": "code",
   "execution_count": null,
   "metadata": {},
   "outputs": [],
   "source": [
    "len(my_list)"
   ]
  },
  {
   "cell_type": "code",
   "execution_count": null,
   "metadata": {},
   "outputs": [],
   "source": [
    "dir(my_list)"
   ]
  },
  {
   "cell_type": "code",
   "execution_count": null,
   "metadata": {},
   "outputs": [],
   "source": [
    "help(my_list.append)"
   ]
  },
  {
   "cell_type": "code",
   "execution_count": null,
   "metadata": {},
   "outputs": [],
   "source": [
    "help(my_list.extend)"
   ]
  },
  {
   "cell_type": "code",
   "execution_count": null,
   "metadata": {},
   "outputs": [],
   "source": [
    "print(list(reversed(my_list)))"
   ]
  },
  {
   "cell_type": "markdown",
   "metadata": {},
   "source": [
    "Manipulating lists:"
   ]
  },
  {
   "cell_type": "code",
   "execution_count": null,
   "metadata": {},
   "outputs": [],
   "source": [
    "my_list.extend(my_list)\n",
    "print(my_list)"
   ]
  },
  {
   "cell_type": "code",
   "execution_count": null,
   "metadata": {},
   "outputs": [],
   "source": [
    "print(my_list + my_list)"
   ]
  },
  {
   "cell_type": "code",
   "execution_count": null,
   "metadata": {},
   "outputs": [],
   "source": [
    "my_list.append('d')\n",
    "print(my_list)"
   ]
  },
  {
   "cell_type": "markdown",
   "metadata": {},
   "source": [
    "Indexing"
   ]
  },
  {
   "cell_type": "code",
   "execution_count": null,
   "metadata": {},
   "outputs": [],
   "source": [
    "my_list[3] = 'd'\n",
    "print(my_list)"
   ]
  },
  {
   "cell_type": "code",
   "execution_count": null,
   "metadata": {},
   "outputs": [],
   "source": [
    "print(my_list[-1])\n",
    "del my_list[-1]\n",
    "print(my_list)"
   ]
  },
  {
   "cell_type": "code",
   "execution_count": null,
   "metadata": {},
   "outputs": [],
   "source": [
    "# accessing an index that does not exist\n",
    "# my_list[len(my_list) + 1]"
   ]
  },
  {
   "cell_type": "markdown",
   "metadata": {},
   "source": [
    "Slicing"
   ]
  },
  {
   "cell_type": "code",
   "execution_count": null,
   "metadata": {},
   "outputs": [],
   "source": [
    "print(my_list[1:])"
   ]
  },
  {
   "cell_type": "code",
   "execution_count": null,
   "metadata": {},
   "outputs": [],
   "source": [
    "print(my_list[:4])"
   ]
  },
  {
   "cell_type": "code",
   "execution_count": null,
   "metadata": {},
   "outputs": [],
   "source": [
    "print(my_list[1:3])\n",
    "my_list[4:5] = []\n",
    "print(my_list)"
   ]
  },
  {
   "cell_type": "code",
   "execution_count": null,
   "metadata": {},
   "outputs": [],
   "source": [
    "print(my_list[1:11])"
   ]
  },
  {
   "cell_type": "code",
   "execution_count": null,
   "metadata": {},
   "outputs": [],
   "source": [
    "print(my_list[::-1])"
   ]
  },
  {
   "cell_type": "code",
   "execution_count": null,
   "metadata": {},
   "outputs": [],
   "source": [
    "my_list.sort(reverse=True)\n",
    "print(my_list)"
   ]
  },
  {
   "cell_type": "code",
   "execution_count": null,
   "metadata": {},
   "outputs": [],
   "source": [
    "help(my_list.sort)"
   ]
  },
  {
   "cell_type": "markdown",
   "metadata": {},
   "source": [
    "##### [Mutable Sequence Operations](https://docs.python.org/3/library/stdtypes.html#mutable-sequence-types)\n",
    "\n",
    "| Operation                 | Result\n",
    "|---------------------------|\n",
    "| `s[i] = x`                | item i of s is replaced by x\n",
    "| `s[i:j] = t`              | slice of s from i to j is replaced by the contents of the iterable t\n",
    "| `del s[i:j]`              | same as `s[i:j] = []`\n",
    "| `s[i:j:k] = t`            | the elements of `s[i:j:k]` are replaced by those of t\n",
    "| `del s[i:j:k]`            | removes the elements of `s[i:j:k]` from the list\n",
    "| `s.append(x)`             | appends x to the end of the sequence (same as `s[len(s):len(s)] = [x]`)\n",
    "| `s.clear()`               | removes all items from s (same as `del s[:]`)\n",
    "| `s.copy()`                | creates a shallow copy of s (same as `s[:]`)\n",
    "| `s.extend(t)` or `s += t` | extends s with the contents of t (for the most part the same as `s[len(s):len(s)] = t`)\n",
    "| `s *= n`                  | updates s with its contents repeated n times\n",
    "| `s.insert(i, x)`          | inserts x into s at the index given by i (same as `s[i:i] = [x]`)\n",
    "| `s.pop([i])`              | retrieves the item at i and also removes it from s\n",
    "| `s.remove(x)`             | remove the first item from s where `s[i]` is equal to x\n",
    "| `s.reverse()`             | reverses the items of s in place"
   ]
  },
  {
   "cell_type": "markdown",
   "metadata": {},
   "source": [
    "#### [tuple](https://docs.python.org/3/library/stdtypes.html#tuples)\n",
    "\n",
    "Tuples are immutable sequences, typically used to store collections of heterogeneous data (such as the 2-tuples produced by the `enumerate()` built-in). Tuples are also used for cases where an immutable sequence of homogeneous data is needed.\n",
    "\n",
    "Tuples may be constructed in a number of ways:\n",
    "\n",
    "* Using a pair of parentheses to denote the empty tuple: `()`\n",
    "* Using a trailing comma for a singleton tuple: `a,` or `(a,)`\n",
    "* Separating items with commas: `a, b, c` or `(a, b, c)`\n",
    "* Using the `tuple()` built-in for type conversion"
   ]
  },
  {
   "cell_type": "code",
   "execution_count": null,
   "metadata": {},
   "outputs": [],
   "source": [
    "my_tuple = ()\n",
    "print(my_tuple)\n",
    "\n",
    "my_tuple = (1,)\n",
    "print(my_tuple)\n",
    "\n",
    "my_tuple = 1, '...'\n",
    "print(my_tuple)\n",
    "\n",
    "my_list = ['a', 'b', 'c',]\n",
    "my_tuple = tuple(my_list)\n",
    "print(my_tuple)"
   ]
  },
  {
   "cell_type": "markdown",
   "metadata": {},
   "source": [
    "#### [set](https://docs.python.org/3/library/stdtypes.html#set-types-set-frozenset)\n",
    "\n",
    "A set object is an unordered collection of distinct hashable objects. Common uses include membership testing, removing duplicates from a sequence, and computing mathematical operations such as intersection, union, difference, and symmetric difference.\n",
    "\n",
    "Being an unordered collection, sets do not record element position or order of insertion. Accordingly, sets do not support indexing, slicing, or other sequence-like behavior.\n",
    "\n",
    "Sets can be constructed in a few ways:\n",
    "\n",
    "* Using the `set()` built-in for type conversion or to create an empty instance\n",
    "* Using a pair of curly braces to denote a non-empty set: `{'set element'}`\n",
    "* Using a set comprehension: `{x for x in my_set}`"
   ]
  },
  {
   "cell_type": "code",
   "execution_count": null,
   "metadata": {},
   "outputs": [],
   "source": [
    "my_set = set()\n",
    "print(my_set)\n",
    "\n",
    "my_set = {'this is a set with one element'}\n",
    "print(my_set)\n",
    "\n",
    "my_set = set('this string is considered an iterable')\n",
    "print(my_set)\n",
    "\n",
    "my_list = ['a', 'b', 'c',]\n",
    "my_set = set(my_list)\n",
    "print(my_set)\n",
    "\n",
    "print({x for x in my_set})\n",
    "# more on this later"
   ]
  },
  {
   "cell_type": "markdown",
   "metadata": {},
   "source": [
    "### [Mappings](https://docs.python.org/3/library/stdtypes.html#mapping-types-dict)\n",
    "\n",
    "#### dict\n",
    "\n",
    "A mapping object maps hashable values to arbitrary objects. Mappings are mutable objects. There is currently only one standard mapping type, the dictionary. (For other containers see the built-in list, set, and tuple classes, and the collections module.)\n",
    "\n",
    "A dictionary’s keys are almost arbitrary values. Values that are not hashable, that is, values containing lists, dictionaries or other mutable types (that are compared by value rather than by object identity) may not be used as keys. Numeric types used for keys obey the normal rules for numeric comparison: if two numbers compare equal (such as 1 and 1.0) then they can be used interchangeably to index the same dictionary entry. (Note however, that since computers store floating-point numbers as approximations it is usually unwise to use them as dictionary keys.)\n",
    "\n",
    "Dictionaries can be created by:\n",
    "\n",
    "* Using braces, with or without `key: value` pairs: `{}`, `{'key': 'value'}`\n",
    "* Using the `dict()` constructor."
   ]
  },
  {
   "cell_type": "code",
   "execution_count": null,
   "metadata": {},
   "outputs": [],
   "source": [
    "my_dictionary = {}\n",
    "print(my_dictionary)\n",
    "\n",
    "my_dictionary = {'jack': 4098, 'sjoerd': 4127}\n",
    "print(my_dictionary)\n",
    "\n",
    "my_dictionary = {4098: 'jack', 4127: 'sjoerd'}\n",
    "print(my_dictionary)\n",
    "\n",
    "my_dictionary = dict()\n",
    "print(my_dictionary)\n",
    "\n",
    "my_dictionary = dict(key='value')\n",
    "print(my_dictionary)\n",
    "\n",
    "my_dictionary = dict([['key', 'value'], ['another', 'pair']])\n",
    "print(my_dictionary)"
   ]
  },
  {
   "cell_type": "markdown",
   "metadata": {},
   "source": [
    "### Others\n",
    "\n",
    "#### [None](https://docs.python.org/3/library/stdtypes.html#the-null-object)\n",
    "\n",
    "This object is returned by functions that don’t explicitly return a value. It supports no special operations. There is exactly one null object, named `None` (a built-in name). `type(None)` produces the same singleton.\n",
    "\n",
    "It is written as None."
   ]
  },
  {
   "cell_type": "code",
   "execution_count": null,
   "metadata": {},
   "outputs": [],
   "source": [
    "type(None)"
   ]
  },
  {
   "cell_type": "code",
   "execution_count": null,
   "metadata": {},
   "outputs": [],
   "source": [
    "None is None"
   ]
  },
  {
   "cell_type": "markdown",
   "metadata": {},
   "source": [
    "#### [bool](https://docs.python.org/3/library/stdtypes.html#boolean-values)\n",
    "\n",
    "Boolean values are the two constant objects `False` and `True`. They are used to represent truth values (although other values can also be considered false or true). In numeric contexts (for example when used as the argument to an arithmetic operator), they behave like the integers 0 and 1, respectively. The built-in function `bool()` can be used to convert any value to a Boolean, if the value can be interpreted as a truth value.\n",
    "\n",
    "They are written as `False` and `True`, respectively."
   ]
  },
  {
   "cell_type": "markdown",
   "metadata": {},
   "source": [
    "##### [Boolean Operations](https://docs.python.org/3/library/stdtypes.html#boolean-operations-and-or-not)\n",
    "\n",
    "| Operation | Result\n",
    "|-----------|\n",
    "| x or y    | if x is false, then y, else x\n",
    "| x and y   | if x is false, then x, else y\n",
    "| not x     | if x is false, then True, else False"
   ]
  },
  {
   "cell_type": "markdown",
   "metadata": {},
   "source": [
    "# [Truth Value Testing](https://docs.python.org/3/library/stdtypes.html#truth-value-testing)\n",
    "\n",
    "Any object can be tested for truth value, for use in an if or while condition or as operand of the Boolean operations.\n",
    "\n",
    "By default, an object is considered true unless its class defines either a `__bool__()` method that returns False or a `__len__()` method that returns zero, when called with the object. Here are most of the built-in objects considered false:\n",
    "\n",
    "* Constants defined to be false: `None` and `False`\n",
    "* Zero of any numeric type: `0`, `0.0`, `0j`, `Decimal(0)`, `Fraction(0, 1)`\n",
    "* Empty sequences and collections: `''`, `()`, `[]`, `{}`, `set()`, `range(0)`\n",
    "* Operations and built-in functions that have a Boolean result always return `0` or `False` for false and `1` or `True` for true, unless otherwise stated.\n",
    "  * Exception: the Boolean operations `or` and `and` always return one of their operands."
   ]
  },
  {
   "cell_type": "code",
   "execution_count": 13,
   "metadata": {},
   "outputs": [
    {
     "name": "stdout",
     "output_type": "stream",
     "text": [
      "[False, False, False, False, False, False, False, False, False, False, False]\n"
     ]
    }
   ],
   "source": [
    "values = (None, False, 0, 0.0, 0j, '', (), [], {}, set(), range(0))\n",
    "print([bool(value) for value in values])"
   ]
  },
  {
   "cell_type": "code",
   "execution_count": 14,
   "metadata": {},
   "outputs": [
    {
     "name": "stdout",
     "output_type": "stream",
     "text": [
      "[True, True, True, True, True, True, True, True, True, True]\n"
     ]
    }
   ],
   "source": [
    "values = (True, 1, 3.14, 1j, 's', (1, ), [''], {'': ''}, set([1]), range(1))\n",
    "print([bool(value) for value in values])"
   ]
  },
  {
   "cell_type": "markdown",
   "metadata": {},
   "source": [
    "# Tips\n",
    "\n",
    "* Practice - it takes time\n",
    "* Don't memorize, refer to the documentation\n",
    "* Learn it as you need it\n",
    "* Try to learn something new\n",
    "* Find and experience the errors"
   ]
  },
  {
   "cell_type": "markdown",
   "metadata": {},
   "source": [
    "### Links go the glossary\n",
    "\n",
    "* [Hashable](https://docs.python.org/3/glossary.html#term-hashable)\n",
    "\n",
    "* [Mutable](https://docs.python.org/3/glossary.html#term-mutable) and [Immutable](https://docs.python.org/3/glossary.html#term-immutable)\n",
    "\n",
    "* [Comprehensions](https://docs.python.org/3/glossary.html#term-list-comprehension)"
   ]
  }
 ],
 "metadata": {
  "kernelspec": {
   "display_name": "Python 3",
   "language": "python",
   "name": "python3"
  },
  "language_info": {
   "codemirror_mode": {
    "name": "ipython",
    "version": 3
   },
   "file_extension": ".py",
   "mimetype": "text/x-python",
   "name": "python",
   "nbconvert_exporter": "python",
   "pygments_lexer": "ipython3",
   "version": "3.7.2"
  }
 },
 "nbformat": 4,
 "nbformat_minor": 2
}

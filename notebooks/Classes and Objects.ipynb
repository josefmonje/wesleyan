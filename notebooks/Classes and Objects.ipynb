{
 "cells": [
  {
   "cell_type": "markdown",
   "metadata": {},
   "source": [
    "# Object-Oriented Programming in Python\n",
    "\n",
    "> Python has been an object-oriented language since it existed. Because of this, creating and using classes and objects are downright easy."
   ]
  },
  {
   "cell_type": "markdown",
   "metadata": {},
   "source": [
    "## Defining Classes\n",
    "\n",
    "The keyword `class` introduces a class definition. It's followed by the class name, then at least one derived class (usually `object`), and ends with a colon. The indented statements below it constitute the class' attributes. Sometimes, you will see code that doesn't derive from `object`. There is an [old-style and new-style](https://wiki.python.org/moin/NewClassVsClassicClass) way to define a class. These are the old-style classes."
   ]
  },
  {
   "cell_type": "code",
   "execution_count": null,
   "metadata": {},
   "outputs": [],
   "source": [
    "class OldStyleClass:\n",
    "    pass\n",
    "\n",
    "\n",
    "class NewStyleClass(object):    \n",
    "\n",
    "    this_attribute = 0\n",
    "\n",
    "    def this_method(self):\n",
    "        print(self.this_attribute)\n",
    "        return self.this_attribute * 2\n"
   ]
  },
  {
   "cell_type": "markdown",
   "metadata": {},
   "source": [
    "Then in your code, to create an instance of a class, just call it:"
   ]
  },
  {
   "cell_type": "code",
   "execution_count": null,
   "metadata": {},
   "outputs": [],
   "source": [
    "my_class = NewStyleClass()"
   ]
  },
  {
   "cell_type": "markdown",
   "metadata": {},
   "source": [
    "#### Hint\n",
    "\n",
    "Use `help` and `dir` to find out more about the `NewStyleClass` instance."
   ]
  },
  {
   "cell_type": "markdown",
   "metadata": {},
   "source": [
    "### [Docstrings](https://www.python.org/dev/peps/pep-0257/)\n",
    "\n",
    "The triple quoted strings under the class definition statement are called docstrings. As much as possible, we want the code to be easy to read and self-explanatory. Otherwise, docstrings provide a way to document our code. Docstrings show up when help() is called on an object."
   ]
  },
  {
   "cell_type": "code",
   "execution_count": null,
   "metadata": {},
   "outputs": [],
   "source": [
    "class MyClass(object):\n",
    "    \"\"\"Example class docstring\"\"\"\n",
    "\n",
    "    my_attribute = 0\n",
    "\n",
    "    def my_method(self):\n",
    "        \"\"\"Example function docstring\"\"\"\n",
    "        return bool(self.my_attribute)\n",
    "\n",
    "my_class = MyClass()\n",
    "\n",
    "print(help(my_class))\n",
    "print(dir(my_class))"
   ]
  },
  {
   "cell_type": "code",
   "execution_count": null,
   "metadata": {},
   "outputs": [],
   "source": [
    "my_class.my_method()"
   ]
  },
  {
   "cell_type": "markdown",
   "metadata": {},
   "source": [
    "## [\"Double-underline\" Methods](https://docs.python.org/3/reference/datamodel.html#basic-customization)\n",
    "\n",
    "From using introspection, we saw a list of attributes beginning and ending with double underlines (__). People refer to this in different ways:\n",
    "\n",
    "* Python documentation refers to these as [special method](https://docs.python.org/3.5/reference/datamodel.html#special-method-names) names\n",
    "* PEP8 refers to it as [magic methods](https://www.python.org/dev/peps/pep-0008/#descriptive-naming-styles)\n",
    "* The double underline syntax can be found in many places in Python and it has an alias - [dunder](https://wiki.python.org/moin/DunderAlias)\n",
    "\n",
    "Let's just accept that these terms can be used interchangeably so we identify them when we're reading Python tutorials or watching YouTube videos about Python.\n",
    "\n",
    "In Python, there are no private variables. Everything in your object is public. The convention is that variables prefixed by underscores are considered to be used internally or for \"private\" use. They can still be accessed if need. Just be aware that they were made \"private\" for some reason.\n",
    "\n",
    "From the list of magic methods provided by dir(), we'll look at two of them then you can start exploring others on your own. You can always refer to the Python documentation for help.\n",
    "\n",
    "### `__init__`\n",
    "\n",
    "Sometimes we want our objects to instantiated with some data or do something. This can be done by modifying the `__init__` method."
   ]
  },
  {
   "cell_type": "code",
   "execution_count": null,
   "metadata": {},
   "outputs": [],
   "source": [
    "class MyClass(object):\n",
    "    \"\"\"This class demonstrates __init__\"\"\"\n",
    "\n",
    "    my_attribute = 0\n",
    "\n",
    "    def __init__(self, my_attribute):\n",
    "        \"\"\"The __init__ method executes when a class is initialized.\"\"\"\n",
    "        self.my_attribute = my_attribute\n",
    "        print(self.my_attribute)\n",
    "\n",
    "    def my_method(self):\n",
    "        return bool(self.my_attribute)\n",
    "\n",
    "my_class = MyClass(1)"
   ]
  },
  {
   "cell_type": "code",
   "execution_count": null,
   "metadata": {},
   "outputs": [],
   "source": [
    "my_class.my_method()"
   ]
  },
  {
   "cell_type": "markdown",
   "metadata": {},
   "source": [
    "## `__str__`\n",
    "\n",
    "        "
   ]
  },
  {
   "cell_type": "code",
   "execution_count": null,
   "metadata": {},
   "outputs": [],
   "source": [
    "class MyClass(object):\n",
    "    \"\"\"This class demonstrates __init__\"\"\"\n",
    "\n",
    "    my_attribute = 0\n",
    "\n",
    "    def __init__(self, my_attribute):\n",
    "        \"\"\"The __init__ method executes when a class is initialized.\"\"\"\n",
    "        self.my_attribute = my_attribute\n",
    "        print(self.my_attribute)\n",
    "\n",
    "    def __str__(self):\n",
    "        return str(\"{0}: {1}\".format(self.__class__.__name__, self.my_attribute))\n",
    "        \n",
    "    def my_method(self):\n",
    "        return bool(self.my_attribute)\n",
    "\n",
    "my_class = MyClass(1)\n",
    "print(my_class)"
   ]
  },
  {
   "cell_type": "markdown",
   "metadata": {},
   "source": [
    "## Inheritance\n",
    "\n",
    "To use inheritance in Python, just put the parent class name inside the parenthesis instead of `object`."
   ]
  },
  {
   "cell_type": "code",
   "execution_count": null,
   "metadata": {},
   "outputs": [],
   "source": [
    "class MyBaseClass(object):\n",
    "    \"\"\"This class demonstrates a base class\"\"\"\n",
    "\n",
    "    my_attribute = 0\n",
    "\n",
    "    def my_method(self):\n",
    "        return bool(self.my_attribute)\n",
    "\n",
    "class MyClass(MyBaseClass):\n",
    "    \"\"\"This class demonstrates inheritance\"\"\"\n",
    "\n",
    "    def my_method(self):\n",
    "            return str(self.my_attribute)\n"
   ]
  },
  {
   "cell_type": "markdown",
   "metadata": {},
   "source": [
    "## Multiple Inheritance\n",
    "\n",
    "Earlier it was mentioned that it could be a list (not a an object with a `list` type) of derived classes. This results in multiple inheritance."
   ]
  },
  {
   "cell_type": "code",
   "execution_count": null,
   "metadata": {},
   "outputs": [],
   "source": [
    "class MyBaseClass(object):\n",
    "    \"\"\"This class demonstrates a base class\"\"\"\n",
    "\n",
    "    my_attribute = 0\n",
    "\n",
    "    def my_method(self):\n",
    "        return bool(self.my_attribute)\n",
    "\n",
    "    def my_other_method(self):\n",
    "        return str(self.my_attribute)\n",
    "\n",
    "    \n",
    "class MyMixin(object):\n",
    "    \"\"\"This class demonstrates a mixin\"\"\"\n",
    "\n",
    "    def my_other_method(self):\n",
    "        return self.my_attribute\n",
    "\n",
    "        \n",
    "class MyClass(MyMixin, MyBaseClass):\n",
    "    \"\"\"This class demonstrates multiple inheritance\"\"\"\n",
    "\n",
    "    def my_method(self):\n",
    "        return str(self.my_attribute)\n",
    "\n",
    "my_class = MyClass()\n",
    "help(my_class)"
   ]
  },
  {
   "cell_type": "markdown",
   "metadata": {},
   "source": [
    "## [Method Resolution Order](https://docs.python.org/3/glossary.html#term-method-resolution-order)\n",
    "\n",
    "Method resolution order or MRO determines how our object will look for information. If we have class that derives from a list of classes and/or from multiple clases, the MRO linearization algorithm can give us a stable and consistent order of classes for looking up attributes. When searching the class hierarchy for the definition of an attribute it looks at each of the derived classes from left to right and uses the first definition found."
   ]
  },
  {
   "cell_type": "code",
   "execution_count": null,
   "metadata": {},
   "outputs": [],
   "source": [
    "MyClass.mro()"
   ]
  },
  {
   "cell_type": "code",
   "execution_count": null,
   "metadata": {},
   "outputs": [],
   "source": [
    "my_class.my_method()"
   ]
  },
  {
   "cell_type": "code",
   "execution_count": null,
   "metadata": {},
   "outputs": [],
   "source": [
    "my_class.my_other_method()"
   ]
  },
  {
   "cell_type": "markdown",
   "metadata": {},
   "source": [
    "## Super\n",
    "\n",
    "There are times when a class wants to access the parent or an ancestor's method in a function it wants to override. For example, maintaining the original functionality, add or modify it to some extent, but not rewrite everything. The super() function allows us to do exactly this."
   ]
  },
  {
   "cell_type": "code",
   "execution_count": null,
   "metadata": {},
   "outputs": [],
   "source": [
    "class MyBaseClass(object):\n",
    "    \"\"\"This class demonstrates a base class\"\"\"\n",
    "\n",
    "    my_attribute = 0\n",
    "\n",
    "    def my_method(self):\n",
    "        return bool(self.my_attribute)\n",
    "\n",
    "    def my_other_method(self):\n",
    "        return str(self.my_attribute)\n",
    "\n",
    "\n",
    "class MyMixin(object):\n",
    "    \"\"\"This class demonstrates a mixin\"\"\"\n",
    "\n",
    "    def my_other_method(self):\n",
    "        return self.my_attribute\n",
    "\n",
    "        \n",
    "class MyClass(MyMixin, MyBaseClass):\n",
    "    \"\"\"This class demonstrates multiple inheritance\"\"\"\n",
    "\n",
    "    def my_method(self):\n",
    "        print(self.__class__.__name__)\n",
    "        return super(MyClass, self).my_method()\n",
    "\n",
    "my_class = MyClass()\n",
    "my_class.my_method()\n"
   ]
  },
  {
   "cell_type": "code",
   "execution_count": null,
   "metadata": {},
   "outputs": [],
   "source": []
  }
 ],
 "metadata": {
  "kernelspec": {
   "display_name": "Python 3",
   "language": "python",
   "name": "python3"
  },
  "language_info": {
   "codemirror_mode": {
    "name": "ipython",
    "version": 3
   },
   "file_extension": ".py",
   "mimetype": "text/x-python",
   "name": "python",
   "nbconvert_exporter": "python",
   "pygments_lexer": "ipython3",
   "version": "3.7.2"
  }
 },
 "nbformat": 4,
 "nbformat_minor": 2
}

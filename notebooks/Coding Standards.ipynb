{
 "cells": [
  {
   "cell_type": "markdown",
   "metadata": {},
   "source": [
    "# Coding Standards ([PEP8](https://www.python.org/dev/peps/pep-0008/))\n",
    "\n",
    "Study PEP8 - Style Guide for Python Code\n",
    "\n",
    "PEPs are Python Enhancement Proposals. There are also other PEPs available for reference.\n",
    "\n",
    "Indentation\n",
    "Use 4 spaces, not tabs\n",
    "\n",
    "Line breaks\n",
    "Standardize line length\n",
    "Break after delimiters\n",
    "\n",
    "Breaking lines before operators\n",
    "For long operations\n",
    "\n",
    "Whitespace\n",
    "Around operators\n",
    "No trailing whitespace\n",
    "Not before or after delimiters\n",
    "\n",
    "Blank lines\n",
    "To separate logical sections\n",
    "Two blank lines after top-level Class of function definitions\n",
    "\n",
    "Imports\n",
    "One import per line\n",
    "Multiple `from` imports are fine\n",
    "\n",
    "String Quotes\n",
    "Be consitent\n",
    "\n",
    "Trailing Commas\n",
    "In tuples\n",
    "Last element of an iterable\n",
    "\n",
    "Naming Conventions\n",
    "\n",
    "\n",
    "    "
   ]
  },
  {
   "cell_type": "code",
   "execution_count": null,
   "metadata": {},
   "outputs": [],
   "source": []
  }
 ],
 "metadata": {
  "kernelspec": {
   "display_name": "Python 3",
   "language": "python",
   "name": "python3"
  },
  "language_info": {
   "codemirror_mode": {
    "name": "ipython",
    "version": 3
   },
   "file_extension": ".py",
   "mimetype": "text/x-python",
   "name": "python",
   "nbconvert_exporter": "python",
   "pygments_lexer": "ipython3",
   "version": "3.7.2"
  }
 },
 "nbformat": 4,
 "nbformat_minor": 2
}

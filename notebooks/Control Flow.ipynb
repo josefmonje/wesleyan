{
 "cells": [
  {
   "cell_type": "markdown",
   "metadata": {},
   "source": [
    "# Control Flow"
   ]
  },
  {
   "cell_type": "code",
   "execution_count": null,
   "metadata": {},
   "outputs": [],
   "source": [
    "pip install jupyter notebook\n",
    "\n",
    "jupyter notebook"
   ]
  },
  {
   "cell_type": "markdown",
   "metadata": {},
   "source": [
    "## Conditions\n",
    "\n",
    "Python's `if` keyword can be used as part of a statement or as part of an expression.\n",
    "\n",
    "### [`if` statement](https://docs.python.org/3/tutorial/controlflow.html#if-statements)\n",
    "\n",
    "A variable or operation, following the `if` keyword, will be tested for truth value. If there is more than one condition, `elif` is used instead of \"else if\". `elif` is optional and can appear zero or as many times as needed. The `else` keyword is also optional but it can only be used once. The code block beneath the `if`, `elif` and `else` statements should be indented. These code blocks are executed when the result of the test on the conditional statement above it is `True`."
   ]
  },
  {
   "cell_type": "code",
   "execution_count": null,
   "metadata": {},
   "outputs": [],
   "source": [
    "if True:\n",
    "    print(\"It's true!\")"
   ]
  },
  {
   "cell_type": "code",
   "execution_count": null,
   "metadata": {},
   "outputs": [],
   "source": [
    "if False:\n",
    "    print(\"It's gossip\")\n",
    "else:\n",
    "    print(\"Don't ask.\")"
   ]
  },
  {
   "cell_type": "code",
   "execution_count": null,
   "metadata": {},
   "outputs": [],
   "source": [
    "value = input(\"Enter a number between 0 and 5: \")\n",
    "if int(value) == 1:\n",
    "    print('You entered', value)\n",
    "elif int(value) == 2:\n",
    "    print('You entered', value)\n",
    "elif int(value) == 3:\n",
    "    print('You entered', value)\n",
    "elif int(value) == 4:\n",
    "    print('You entered', value)\n",
    "else:\n",
    "    print(\"It's not in the choices\")\n",
    "\n",
    "# later we will learn how to handle errors"
   ]
  },
  {
   "cell_type": "markdown",
   "metadata": {},
   "source": [
    "### [`if` expression](https://docs.python.org/3.5/reference/expressions.html#conditional-expressions)\n",
    "\n",
    "This syntax is more commonly known in other languages as a \"ternary operation\" (there's no `?` operator in this case)."
   ]
  },
  {
   "cell_type": "code",
   "execution_count": null,
   "metadata": {},
   "outputs": [],
   "source": [
    "cat_is_away = True\n",
    "print(\"Mouse will play!\") if cat_is_away else print(\"Meow!\")"
   ]
  },
  {
   "cell_type": "markdown",
   "metadata": {},
   "source": [
    "### List comprehension with a condition"
   ]
  },
  {
   "cell_type": "code",
   "execution_count": null,
   "metadata": {},
   "outputs": [],
   "source": [
    "[value for value in range(10) if value % 2 == 0]"
   ]
  },
  {
   "cell_type": "markdown",
   "metadata": {},
   "source": [
    "## Loops and Iteration\n",
    "\n",
    "Python provides several ways to loop and iterate using the `for` and `while` keywords."
   ]
  },
  {
   "cell_type": "markdown",
   "metadata": {},
   "source": [
    "### [List comprehension](https://docs.python.org/3/tutorial/datastructures.html#list-comprehensions)\n",
    "\n",
    "List comprehensions provide a concise way to create lists. Common applications are to make new lists where each element is the result of some operations applied to each member of another sequence or iterable, or to create a subsequence of those elements that satisfy a certain condition."
   ]
  },
  {
   "cell_type": "code",
   "execution_count": null,
   "metadata": {},
   "outputs": [],
   "source": [
    "[value for value in range(10)]"
   ]
  },
  {
   "cell_type": "code",
   "execution_count": null,
   "metadata": {},
   "outputs": [],
   "source": [
    "[value for value in range(10) if value % 2 == 0]"
   ]
  },
  {
   "cell_type": "markdown",
   "metadata": {},
   "source": [
    "Built-in functions that are used with loops also work in comprehensions:\n",
    "\n",
    "* `range()`\n",
    "* `enumerate()`\n",
    "* `sorted()`\n",
    "* `reversed()`"
   ]
  },
  {
   "cell_type": "markdown",
   "metadata": {},
   "source": [
    "### Set and Dictionary Comprehension\n",
    "\n",
    "Set comprehensions work in the same way as list comprehensions, except the iterable is a set and it uses braces.\n",
    "\n",
    "Dictionary comprehensions also work in the same way, except instead of just getting a value, the key is also available. It also uses braces."
   ]
  },
  {
   "cell_type": "code",
   "execution_count": null,
   "metadata": {},
   "outputs": [],
   "source": [
    "{x for x in 'abracadabra' if x not in 'abc'}"
   ]
  },
  {
   "cell_type": "code",
   "execution_count": null,
   "metadata": {},
   "outputs": [],
   "source": [
    "my_food = {\n",
    "    'rice_name': 'plain rice',\n",
    "    'ulam_name': ['fried chicken'],\n",
    "    'rice_quantity': 3,\n",
    "    'drink': 'iced tea',\n",
    "    'soup_name': 'free soup',\n",
    "}\n",
    "\n",
    "print(my_food.items())\n",
    "\n",
    "print({key: value for key, value in my_food.items()})"
   ]
  },
  {
   "cell_type": "markdown",
   "metadata": {},
   "source": [
    "### [`for` statement](https://docs.python.org/3/tutorial/controlflow.html#for-statements)\n",
    "\n",
    "The `for` statement iterates over the items of any sequence (a list or a string), in the order that they appear in the sequence. The variable after the keyword `for` represents an element in the sequence. The indented block below executes during each iteration."
   ]
  },
  {
   "cell_type": "code",
   "execution_count": null,
   "metadata": {},
   "outputs": [],
   "source": [
    "words = [\n",
    "    'pero',\n",
    "    'grabe',\n",
    "    'grabe',\n",
    "]\n",
    "\n",
    "for word in words:\n",
    "    print(word)"
   ]
  },
  {
   "cell_type": "markdown",
   "metadata": {},
   "source": [
    "#### List comprehension example as `for` loop"
   ]
  },
  {
   "cell_type": "code",
   "execution_count": null,
   "metadata": {},
   "outputs": [],
   "source": [
    "# my_list = [value for value in range(10)]\n",
    "my_list = []\n",
    "for value in range(10):\n",
    "    my_list.append(value)\n",
    "\n",
    "print(my_list)"
   ]
  },
  {
   "cell_type": "markdown",
   "metadata": {},
   "source": [
    "Use [`enumerate()`](https://docs.python.org/3.5/library/functions.html#enumerate) to get the index while looping:"
   ]
  },
  {
   "cell_type": "code",
   "execution_count": null,
   "metadata": {},
   "outputs": [],
   "source": [
    "for index, word in enumerate(words):\n",
    "    print(index, word)"
   ]
  },
  {
   "cell_type": "markdown",
   "metadata": {},
   "source": [
    "Use [`range()`](https://docs.python.org/3.5/library/stdtypes.html#ranges) if you want to loop a certain number of times or over a sequence of numbers:"
   ]
  },
  {
   "cell_type": "code",
   "execution_count": null,
   "metadata": {},
   "outputs": [],
   "source": [
    "for number in range(11):\n",
    "    print(number)"
   ]
  },
  {
   "cell_type": "markdown",
   "metadata": {},
   "source": [
    "### [`break, continue, and else in Loops`](https://docs.python.org/3.5/tutorial/controlflow.html#break-and-continue-statements-and-else-clauses-on-loops)\n",
    "\n",
    "`break` stops the loop and the rest of the iterations will no longer proceed."
   ]
  },
  {
   "cell_type": "code",
   "execution_count": null,
   "metadata": {},
   "outputs": [],
   "source": [
    "for number in range(2, 7):\n",
    "    if number % 2 == 0:\n",
    "        print(\"Found an even number\", number)\n",
    "        break  # This stops the whole loop\n",
    "    print(\"Found a number\", number)"
   ]
  },
  {
   "cell_type": "markdown",
   "metadata": {},
   "source": [
    "`continue` stops the current iteration will no longer proceed and continues with the next iteration"
   ]
  },
  {
   "cell_type": "code",
   "execution_count": null,
   "metadata": {},
   "outputs": [],
   "source": [
    "for number in range(2, 7):\n",
    "    if number % 2 == 0:\n",
    "        print(\"Found an even number\", number)\n",
    "        continue  # If an even number is found, the next line will not run \n",
    "    print(\"Found a number\", number)"
   ]
  },
  {
   "cell_type": "markdown",
   "metadata": {},
   "source": [
    "`else` executes when the loop is not terminated by a break statement or when the list is exhausted."
   ]
  },
  {
   "cell_type": "code",
   "execution_count": null,
   "metadata": {},
   "outputs": [],
   "source": [
    "for number in range(3):\n",
    "    print(number)\n",
    "else:\n",
    "    print('Done!')"
   ]
  },
  {
   "cell_type": "markdown",
   "metadata": {},
   "source": [
    "### [`while` statement](https://docs.python.org/3/reference/compound_stmts.html#while)\n",
    "\n",
    "The `while` statement iterates as long as the condition is true. It is the programmer's responsibility to make sure that the condition to exit the loop is fulfilled. Unless it is intended to run forever, for example as a daemon."
   ]
  },
  {
   "cell_type": "code",
   "execution_count": null,
   "metadata": {},
   "outputs": [],
   "source": [
    "x = 0\n",
    "while x < 11:\n",
    "    print(x)\n",
    "    x += 1"
   ]
  },
  {
   "cell_type": "code",
   "execution_count": null,
   "metadata": {},
   "outputs": [],
   "source": [
    "while True:\n",
    "    print('May forever')"
   ]
  },
  {
   "cell_type": "markdown",
   "metadata": {},
   "source": [
    "`else` executes when the loop is not terminated by a break statement or when the loop exits normally."
   ]
  },
  {
   "cell_type": "code",
   "execution_count": null,
   "metadata": {},
   "outputs": [],
   "source": [
    "x = 0\n",
    "while x < 4:\n",
    "    print(x)\n",
    "    x += 1\n",
    "else:\n",
    "    print('Done!')"
   ]
  },
  {
   "cell_type": "markdown",
   "metadata": {},
   "source": [
    "## [Error and Exceptions](https://docs.python.org/3/tutorial/errors.html#errors-and-exceptions)\n",
    "\n",
    "### Errors\n",
    "\n",
    "When the parser detects invalid code, it tries to identify where the error occured. The code will not execute. The solution here is to fix the code by following Python's syntax."
   ]
  },
  {
   "cell_type": "code",
   "execution_count": null,
   "metadata": {},
   "outputs": [],
   "source": [
    "print('Hello world')\n",
    "while True print('Hello world')"
   ]
  },
  {
   "cell_type": "code",
   "execution_count": null,
   "metadata": {},
   "outputs": [],
   "source": [
    "print('Hello world')\n",
    "while True:\n",
    "print('Hello world')"
   ]
  },
  {
   "cell_type": "code",
   "execution_count": null,
   "metadata": {},
   "outputs": [],
   "source": [
    "print('Hello world')\n",
    "message = \"Hello world\"\n",
    "print(massage)"
   ]
  },
  {
   "cell_type": "markdown",
   "metadata": {},
   "source": [
    "### Exceptions\n",
    "\n",
    "Even if the syntax is correct, errors can still occur during excuton. These are called _Exceptions_ and they can be handled."
   ]
  },
  {
   "cell_type": "code",
   "execution_count": null,
   "metadata": {},
   "outputs": [],
   "source": [
    "1/0"
   ]
  },
  {
   "cell_type": "code",
   "execution_count": null,
   "metadata": {},
   "outputs": [],
   "source": [
    "spam + 1"
   ]
  },
  {
   "cell_type": "code",
   "execution_count": null,
   "metadata": {},
   "outputs": [],
   "source": [
    "'1' + 1"
   ]
  },
  {
   "cell_type": "markdown",
   "metadata": {},
   "source": [
    "### Exception Handling\n",
    "\n",
    "The `try` statement is used to handle exceptions during execution.\n",
    "\n",
    "The `except` clause allows you to specify exception handlers. There can be one or more `except` clauses and each can have one or more exceptions by enclosing them in a parenthesis. Followed by an `Exception` class, it allows you to catch specific exceptions and control how each is handled. The `Exception` class can also be omitted, will be considered a wildcard but this is bad practice since it hides programming errors. Exceptions can be aliased using the `as` keyword so it can be used as a variable in the error's context."
   ]
  },
  {
   "cell_type": "code",
   "execution_count": null,
   "metadata": {},
   "outputs": [],
   "source": [
    "while True:\n",
    "    try:\n",
    "        x = int(input(\"Please enter a number: \"))\n",
    "    except ValueError:\n",
    "        print(\"Oops! Not a valid number. Try again...\")\n",
    "    break"
   ]
  },
  {
   "cell_type": "markdown",
   "metadata": {},
   "source": [
    "#### Multiple Exceptions"
   ]
  },
  {
   "cell_type": "code",
   "execution_count": null,
   "metadata": {},
   "outputs": [],
   "source": [
    "while True:\n",
    "    try:\n",
    "        x = int(input(\"Please enter a number: \"))\n",
    "    except ValueError:\n",
    "        print(\"Oops! Not a valid number. Try again...\")\n",
    "    except KeyboardInterrupt:\n",
    "        print(\"You stopped the program\")\n",
    "    break"
   ]
  },
  {
   "cell_type": "markdown",
   "metadata": {},
   "source": [
    "The optional `else` clause executes if all the lines within the try clause execute without errors. Therefore, no exceptions occured. Being after the scope of the `try` statement, exceptions within the else clause are no longer handled by any except clause above it."
   ]
  },
  {
   "cell_type": "code",
   "execution_count": null,
   "metadata": {},
   "outputs": [],
   "source": [
    "while True:\n",
    "    try:\n",
    "        x = int(input(\"Please enter a number: \"))\n",
    "    except ValueError:\n",
    "        print(\"Oops! Not a valid number. Try again...\")\n",
    "    else:\n",
    "        break"
   ]
  },
  {
   "cell_type": "markdown",
   "metadata": {},
   "source": [
    "The `raise` statement allows you to force a specified exception to occur."
   ]
  },
  {
   "cell_type": "code",
   "execution_count": null,
   "metadata": {},
   "outputs": [],
   "source": [
    "print(\"Hello\")\n",
    "raise Exception # shorthand for 'raise Exception()'\n",
    "print(\"world\")"
   ]
  },
  {
   "cell_type": "markdown",
   "metadata": {},
   "source": [
    "### [Built-in Exceptions](https://docs.python.org/3/library/exceptions.html#built-in-exceptions)\n",
    "\n",
    "#### [Exception Heirarchy](https://docs.python.org/3/library/exceptions.html#exception-hierarchy)"
   ]
  },
  {
   "cell_type": "markdown",
   "metadata": {},
   "source": [
    "### Clean-up Actions\n",
    "\n",
    "The `try` statement has another optional `finally` clause which is intended to define clean-up actions that must be executed under all circumstances.\n",
    "\n"
   ]
  },
  {
   "cell_type": "code",
   "execution_count": null,
   "metadata": {},
   "outputs": [],
   "source": [
    "try:\n",
    "    raise KeyboardInterrupt\n",
    "finally:\n",
    "    print('Goodbye, world!')"
   ]
  },
  {
   "cell_type": "markdown",
   "metadata": {},
   "source": [
    "#### Full Example"
   ]
  },
  {
   "cell_type": "code",
   "execution_count": null,
   "metadata": {},
   "outputs": [],
   "source": [
    "def divide(x, y):\n",
    "    try:\n",
    "        result = int(x) / int(y)\n",
    "    except ZeroDivisionError:\n",
    "        print(\"division by zero!\")\n",
    "    except (ValueError, KeyboardInterrupt):\n",
    "        print(\"numbers only!\")\n",
    "    except Exception as err:\n",
    "        print(\"New error occurred: \", err)\n",
    "    else:\n",
    "        print(\"result is\", result)\n",
    "    finally:\n",
    "        print(\"finally!\")\n",
    "\n",
    "x = input(\"Input x: \")\n",
    "y = input(\"Input y: \")\n",
    "divide(x, y)"
   ]
  },
  {
   "cell_type": "markdown",
   "metadata": {},
   "source": [
    "## The `pass` statement\n",
    "\n",
    "`pass` does nothing. It can be used when a statement is required syntactically but the program requires no action."
   ]
  },
  {
   "cell_type": "code",
   "execution_count": 63,
   "metadata": {},
   "outputs": [
    {
     "ename": "NameError",
     "evalue": "name 'tmp1' is not defined",
     "output_type": "error",
     "traceback": [
      "\u001b[0;31m---------------------------------------------------------------------------\u001b[0m",
      "\u001b[0;31mNameError\u001b[0m                                 Traceback (most recent call last)",
      "\u001b[0;32m<ipython-input-63-3dd53f4461fd>\u001b[0m in \u001b[0;36m<module>\u001b[0;34m\u001b[0m\n\u001b[0;32m----> 1\u001b[0;31m \u001b[0mtmp1\u001b[0m\u001b[0;34m(\u001b[0m\u001b[0;34m)\u001b[0m\u001b[0;34m\u001b[0m\u001b[0;34m\u001b[0m\u001b[0m\n\u001b[0m\u001b[1;32m      2\u001b[0m \u001b[0;32mdef\u001b[0m \u001b[0mtmp1\u001b[0m\u001b[0;34m(\u001b[0m\u001b[0;34m)\u001b[0m\u001b[0;34m:\u001b[0m\u001b[0;34m\u001b[0m\u001b[0;34m\u001b[0m\u001b[0m\n\u001b[1;32m      3\u001b[0m     \u001b[0;32mpass\u001b[0m\u001b[0;34m\u001b[0m\u001b[0;34m\u001b[0m\u001b[0m\n\u001b[1;32m      4\u001b[0m \u001b[0;34m\u001b[0m\u001b[0m\n",
      "\u001b[0;31mNameError\u001b[0m: name 'tmp1' is not defined"
     ]
    }
   ],
   "source": [
    "tmp1()\n",
    "def tmp1():\n",
    "    pass\n",
    "\n"
   ]
  },
  {
   "cell_type": "code",
   "execution_count": null,
   "metadata": {},
   "outputs": [],
   "source": [
    "try:\n",
    "    print(\"DO NOT DO THIS!\")\n",
    "except:\n",
    "    pass"
   ]
  },
  {
   "cell_type": "markdown",
   "metadata": {},
   "source": [
    "## [Functions](https://docs.python.org/3/tutorial/controlflow.html#defining-functions)\n",
    "\n",
    "In Python, functions are defined using the keyword `def`, followed by the function name, then the parenthesized parameters required for the function. The body of the function following the first line should be indented. There can be zero or more than one parameter, and can be one or more positional arguments and/or optional keyword arguments."
   ]
  },
  {
   "cell_type": "code",
   "execution_count": null,
   "metadata": {},
   "outputs": [],
   "source": [
    "def my_function(argument1, argument2):\n",
    "    print(argument2, argument1)\n",
    "    pass\n",
    "\n",
    "my_function(1, 2)"
   ]
  },
  {
   "cell_type": "code",
   "execution_count": null,
   "metadata": {},
   "outputs": [],
   "source": [
    "def my_function(keyword_argument='Hi', keyword_argument2='Hello'):\n",
    "    return keyword_argument, keyword_argument2\n",
    "    pass"
   ]
  },
  {
   "cell_type": "code",
   "execution_count": null,
   "metadata": {},
   "outputs": [],
   "source": [
    "result = my_function('world', 'hello')\n",
    "print(result)"
   ]
  },
  {
   "cell_type": "markdown",
   "metadata": {},
   "source": [
    "Coming from other languages, you might object that `my_function` is not a function but a procedure since it doesn’t return a value. In fact, even functions without a return statement do return a value, which is called `None`. `None` is normally suppressed by the interpreter if it would be the only value written. You can see it if you really want to using `print()`."
   ]
  },
  {
   "cell_type": "code",
   "execution_count": null,
   "metadata": {},
   "outputs": [],
   "source": [
    "print(result)"
   ]
  },
  {
   "cell_type": "markdown",
   "metadata": {},
   "source": [
    "### Argument Syntax\n",
    "\n",
    "When defining functions, positional arguments must be placed before keyword arguments. Keyword arguments must be placed after all the positional arguments. No positional arguments must be placed after keyword arguments."
   ]
  },
  {
   "cell_type": "code",
   "execution_count": null,
   "metadata": {},
   "outputs": [],
   "source": [
    "def my_function(argument1, argument2, keyword_argument1='kwarg', keyword_argument2='kwarg'):\n",
    "    pass"
   ]
  },
  {
   "cell_type": "markdown",
   "metadata": {},
   "source": [
    "### Default Argument Values\n",
    "\n",
    "The difference when using keyword arguments is that the variable will have a default value. It also makes providing this argument optional when calling the function.\n",
    "\n",
    "When calling functions, the order of the positional arguments must be followed. Values to positional arguments should be provided first before providing keyword arguments. When providing keyword arguments, order does not matter."
   ]
  },
  {
   "cell_type": "code",
   "execution_count": null,
   "metadata": {},
   "outputs": [],
   "source": [
    "def ask_ok(prompt, retries=4, reminder='Please try again!'):\n",
    "    while True:\n",
    "        ok = input(prompt)\n",
    "        if ok in ('y', 'ye', 'yes'):\n",
    "            return True\n",
    "        if ok in ('n', 'no', 'nop', 'nope'):\n",
    "            return False\n",
    "        retries = retries - 1\n",
    "        if retries < 0:\n",
    "            pass\n",
    "            #raise ValueError('invalid user response')\n",
    "        print(reminder)"
   ]
  },
  {
   "cell_type": "markdown",
   "metadata": {},
   "source": [
    "This function can be called in several ways:\n",
    "\n",
    "* Giving only the mandatory argument: `ask_ok('Do you really want to quit?')`\n",
    "* Giving one of the optional arguments: `ask_ok('OK to overwrite the file?', 2)`\n",
    "* Even giving all arguments: `ask_ok('OK to overwrite the file?', 2, 'Come on, only yes or no!')`"
   ]
  },
  {
   "cell_type": "code",
   "execution_count": null,
   "metadata": {},
   "outputs": [],
   "source": [
    "ask_ok('OK to overwrite the file?', 2, 'Come on, only yes or no!')"
   ]
  },
  {
   "cell_type": "code",
   "execution_count": null,
   "metadata": {},
   "outputs": [],
   "source": [
    "ask_ok('OK to overwrite the file?')"
   ]
  },
  {
   "cell_type": "code",
   "execution_count": null,
   "metadata": {},
   "outputs": [],
   "source": [
    "ask_ok('OK to overwrite the file?', 2, 'Come on, only yes or no!')"
   ]
  },
  {
   "cell_type": "markdown",
   "metadata": {},
   "source": [
    "Write a function that will accept a number\n",
    "It will print the numbers from 1 up to the given number\n",
    "Whenever the number is divisible by 3, print Fizz\n",
    "Whenever the number is divisible by 5, print Buzz\n",
    "Whenever the number is divisible by both 3 and 5, print FizzBuzz"
   ]
  },
  {
   "cell_type": "code",
   "execution_count": null,
   "metadata": {},
   "outputs": [],
   "source": [
    "fizzbuzz(15)\n",
    "1\n",
    "2\n",
    "3 Fizz\n",
    "4\n",
    "5 Buzz\n",
    "6 Fizz\n",
    "7\n",
    "8\n",
    "9 Fizz\n",
    "10 Buzz\n",
    "11\n",
    "12 Fizz\n",
    "13\n",
    "14\n",
    "15 FizzBuzz"
   ]
  },
  {
   "cell_type": "code",
   "execution_count": 21,
   "metadata": {},
   "outputs": [
    {
     "name": "stdout",
     "output_type": "stream",
     "text": [
      "1 \n",
      "2 \n",
      "3 Fizz\n",
      "4 \n",
      "5 Buzz\n",
      "6 Fizz\n",
      "7 \n",
      "8 \n",
      "9 Fizz\n",
      "10 Buzz\n",
      "11 \n",
      "12 Fizz\n",
      "13 \n",
      "14 \n",
      "15 FizzBuzz\n"
     ]
    }
   ],
   "source": [
    "def fizzbuzz(number):\n",
    "    for n in range(1, number + 1):\n",
    "        result = ' '\n",
    "        if n % 3 == 0:\n",
    "            result += 'Fizz'\n",
    "        if n % 5 == 0:\n",
    "            result += 'Buzz'\n",
    "        print(str(n) + result)\n",
    "\n",
    "fizzbuzz(15)"
   ]
  },
  {
   "cell_type": "code",
   "execution_count": null,
   "metadata": {},
   "outputs": [],
   "source": [
    "greet(name, greeting='Welcome')\n",
    "\n",
    "-=<=>=--=<=>=--=<=>=--=<=>=--=<=>=--=<=>=--=<=>=--=<=>=-\n",
    "\n",
    "                   Welcome {name}!\n",
    "\n",
    "-=<=>=--=<=>=--=<=>=--=<=>=--=<=>=--=<=>=--=<=>=--=<=>=-\n",
    "\n",
    "\n",
    "greet('boss', greeting=\"maligayang kaarawan\")\n",
    "\n",
    "-=<=>=--=<=>=--=<=>=--=<=>=--=<=>=--=<=>=--=<=>=--=<=>=-\n",
    "\n",
    "               maligayang kaarawan boss!\n",
    "\n",
    "-=<=>=--=<=>=--=<=>=--=<=>=--=<=>=--=<=>=--=<=>=--=<=>=-\n"
   ]
  },
  {
   "cell_type": "code",
   "execution_count": 26,
   "metadata": {},
   "outputs": [
    {
     "name": "stdout",
     "output_type": "stream",
     "text": [
      "-=<=>=--=<=>=--=<=>=--=<=>=--=<=>=--=<=>=--=<=>=--=<=>=-\n",
      "                    hello world boss                    \n",
      "-=<=>=--=<=>=--=<=>=--=<=>=--=<=>=--=<=>=--=<=>=--=<=>=-\n"
     ]
    }
   ],
   "source": [
    "def greet(name, greeting='Welcome'):\n",
    "    banner = '-=<=>=--=<=>=--=<=>=--=<=>=--=<=>=--=<=>=--=<=>=--=<=>=-'\n",
    "    banner_length = len(banner)\n",
    "    text = f'{greeting} {name}'.center(banner_length)\n",
    "    print(banner)\n",
    "    print(text)\n",
    "    print(banner)\n",
    "    \n",
    "greet('boss', greeting=\"hello world\")"
   ]
  },
  {
   "cell_type": "markdown",
   "metadata": {},
   "source": [
    "### Mutable Default Values\n",
    "\n",
    "The default value is evaluated only once. This makes a difference when the default is a mutable object such as a list, dictionary, or instances of most classes. For example, the following function accumulates the arguments passed to it on subsequent calls"
   ]
  },
  {
   "cell_type": "code",
   "execution_count": 27,
   "metadata": {},
   "outputs": [
    {
     "name": "stdout",
     "output_type": "stream",
     "text": [
      "[1]\n",
      "[1, 2]\n",
      "[1, 2, 3]\n"
     ]
    }
   ],
   "source": [
    "def f(a, L=, greeting=\"maligayang kaarawan\"[]):\n",
    "    L.append(a)\n",
    "    return L\n",
    "\n",
    "print(f(1))\n",
    "print(f(2))\n",
    "print(f(3))"
   ]
  },
  {
   "cell_type": "markdown",
   "metadata": {},
   "source": [
    "Instead, use an immutable value and check for it in a condition."
   ]
  },
  {
   "cell_type": "code",
   "execution_count": 28,
   "metadata": {},
   "outputs": [
    {
     "name": "stdout",
     "output_type": "stream",
     "text": [
      "[1]\n",
      "[2]\n",
      "[3]\n"
     ]
    }
   ],
   "source": [
    "def f(a, L=None):\n",
    "    if L is None:\n",
    "        L = []\n",
    "    L.append(a)\n",
    "    return L\n",
    "\n",
    "print(f(1))\n",
    "print(f(2))\n",
    "print(f(3))"
   ]
  },
  {
   "cell_type": "markdown",
   "metadata": {},
   "source": [
    "### [Starred Arguments](https://docs.python.org/3/tutorial/controlflow.html#arbitrary-argument-lists)\n",
    "\n",
    "When passing an unknown number or arguments or keyword arguments to a function a variadic argument is used. These must be defined after a formal list of arguments or keyword arguments because they will be assigned everything else that was passed when the function was called. These are preceeded by `*` for arguments and `**` for keyword arguments."
   ]
  },
  {
   "cell_type": "code",
   "execution_count": 37,
   "metadata": {},
   "outputs": [],
   "source": [
    "def my_function(*args, **kwargs):\n",
    "    print(args, kwargs)"
   ]
  },
  {
   "cell_type": "code",
   "execution_count": 47,
   "metadata": {},
   "outputs": [
    {
     "name": "stdout",
     "output_type": "stream",
     "text": [
      "([1, 2, 3, 4],) {}\n"
     ]
    }
   ],
   "source": [
    "var = [1, 2, 3, 4]\n",
    "my_function(*var)"
   ]
  },
  {
   "cell_type": "code",
   "execution_count": 46,
   "metadata": {},
   "outputs": [
    {
     "name": "stdout",
     "output_type": "stream",
     "text": [
      "({'key': 'value', 'key2': 'value2'},) {}\n"
     ]
    }
   ],
   "source": [
    "var = {\n",
    "    'key': 'value',\n",
    "    'key2': 'value2',\n",
    "}\n",
    "my_function(**var)"
   ]
  },
  {
   "cell_type": "code",
   "execution_count": null,
   "metadata": {},
   "outputs": [],
   "source": []
  },
  {
   "cell_type": "markdown",
   "metadata": {},
   "source": [
    "### Passing Containers to Starred Arguments"
   ]
  },
  {
   "cell_type": "code",
   "execution_count": 48,
   "metadata": {},
   "outputs": [
    {
     "name": "stdout",
     "output_type": "stream",
     "text": [
      "(1, 2, 3) {}\n"
     ]
    }
   ],
   "source": [
    "my_list = [1, 2, 3]\n",
    "def my_function(*args, **kwargs):\n",
    "    print(args, kwargs)\n",
    "\n",
    "my_list = [1, 2, 3]\n",
    "my_function(*my_list)"
   ]
  },
  {
   "cell_type": "code",
   "execution_count": 49,
   "metadata": {},
   "outputs": [
    {
     "name": "stdout",
     "output_type": "stream",
     "text": [
      "() {'1': 1, '2': 2, '3': 3}\n"
     ]
    }
   ],
   "source": [
    "def my_function(*args, **kwargs):\n",
    "    print(args, kwargs)\n",
    "\n",
    "my_dictionary = {\n",
    "    '1': 1,\n",
    "    '2': 2,\n",
    "    '3': 3,\n",
    "}\n",
    "my_function(**my_dictionary)"
   ]
  },
  {
   "cell_type": "markdown",
   "metadata": {},
   "source": [
    "### Unpacking Arguments"
   ]
  },
  {
   "cell_type": "code",
   "execution_count": 50,
   "metadata": {},
   "outputs": [
    {
     "name": "stdout",
     "output_type": "stream",
     "text": [
      "1 2 3\n"
     ]
    }
   ],
   "source": [
    "my_list = [1, 2, 3]\n",
    "a, b, c = my_list\n",
    "print(a, b , c)"
   ]
  },
  {
   "cell_type": "code",
   "execution_count": 53,
   "metadata": {},
   "outputs": [
    {
     "name": "stdout",
     "output_type": "stream",
     "text": [
      "1 [2, 3, 4, 5]\n"
     ]
    }
   ],
   "source": [
    "my_list = [1, 2, 3, 4, 5]\n",
    "a, *b = my_list\n",
    "print(a, b)"
   ]
  },
  {
   "cell_type": "code",
   "execution_count": 54,
   "metadata": {},
   "outputs": [
    {
     "name": "stdout",
     "output_type": "stream",
     "text": [
      "('1', 1) [('2', 2), ('3', 3)]\n",
      "{'2': 2, '3': 3}\n"
     ]
    }
   ],
   "source": [
    "my_dictionary = {\n",
    "    '1': 1,\n",
    "    '2': 2,\n",
    "    '3': 3,\n",
    "}\n",
    "a, *b = my_dictionary.items()\n",
    "print(a, b)\n",
    "print(dict(b))"
   ]
  },
  {
   "cell_type": "markdown",
   "metadata": {},
   "source": [
    "### Lambda Functions\n",
    "\n",
    "Lambda functions are functions that are not bound to a name. But they can be assigned to a variable, giving them a name that allows you to refer to it. They also don't have an explicit `return` statement, it is implied. A `lambda` function can only have one line of expression."
   ]
  },
  {
   "cell_type": "code",
   "execution_count": null,
   "metadata": {},
   "outputs": [],
   "source": [
    "def incrementer(n):\n",
    "    return n + 1\n",
    "def my_lambda n:\n",
    "    return n['key'][0]"
   ]
  },
  {
   "cell_type": "code",
   "execution_count": 61,
   "metadata": {},
   "outputs": [
    {
     "name": "stdout",
     "output_type": "stream",
     "text": [
      "[{'key': '1valu2'}, {'key': '2value1'}]\n"
     ]
    }
   ],
   "source": [
    "lambda n: n + 1\n",
    "my_list = [{'key':'2value1'}, {'key':'1valu2'}]\n",
    "my_list.sort(key=lambda n: n['key'][0])\n",
    "print(my_list)"
   ]
  },
  {
   "cell_type": "markdown",
   "metadata": {},
   "source": [
    "## Summary\n",
    "\n",
    "* Conditions\n",
    "  * `if` statement\n",
    "  * `if` expression\n",
    "* Loops and Iteration\n",
    "  * `list` comprehension\n",
    "    * `set` and `dictionary` comprehension\n",
    "  * `for` loop\n",
    "  * `while` loop\n",
    "* Errors and Exceptions\n",
    "  * `Error`\n",
    "  * `Exception`\n",
    "  * Built-in Exceptions\n",
    "  * Exception Handling\n",
    "* `pass`\n",
    "* Functions\n",
    "  * `def`\n",
    "  * `lambda`"
   ]
  },
  {
   "cell_type": "code",
   "execution_count": null,
   "metadata": {},
   "outputs": [],
   "source": []
  }
 ],
 "metadata": {
  "kernelspec": {
   "display_name": "Python 3",
   "language": "python",
   "name": "python3"
  },
  "language_info": {
   "codemirror_mode": {
    "name": "ipython",
    "version": 3
   },
   "file_extension": ".py",
   "mimetype": "text/x-python",
   "name": "python",
   "nbconvert_exporter": "python",
   "pygments_lexer": "ipython3",
   "version": "3.7.2"
  }
 },
 "nbformat": 4,
 "nbformat_minor": 2
}

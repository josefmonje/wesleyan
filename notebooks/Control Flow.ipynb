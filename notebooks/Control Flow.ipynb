{
 "cells": [
  {
   "cell_type": "markdown",
   "metadata": {},
   "source": [
    "# Control Flow"
   ]
  },
  {
   "cell_type": "markdown",
   "metadata": {},
   "source": [
    "## Conditions\n",
    "\n",
    "Python's `if` keyword can be used as part of a statement or as part of an expression.\n",
    "\n",
    "### [`if` statement](https://docs.python.org/3/tutorial/controlflow.html#if-statements)\n",
    "\n",
    "A variable or operation, following the `if` keyword, will be tested for truth value. If there is more than one condition, `elif` is used instead of \"else if\". `elif` is optional and can appear zero or as many times as needed. The `else` keyword is also optional but it can only be used once. The code block beneath the `if`, `elif` and `else` statements should be indented. These code blocks are executed when the result of the test on the conditional statement above it is `True`."
   ]
  },
  {
   "cell_type": "code",
   "execution_count": null,
   "metadata": {},
   "outputs": [],
   "source": [
    "if True:\n",
    "    print(\"It's true!\")"
   ]
  },
  {
   "cell_type": "code",
   "execution_count": null,
   "metadata": {},
   "outputs": [],
   "source": [
    "if False:\n",
    "    print(\"It's gossip\")\n",
    "else:\n",
    "    print(\"Don't ask.\")"
   ]
  },
  {
   "cell_type": "code",
   "execution_count": null,
   "metadata": {},
   "outputs": [],
   "source": [
    "value = input(\"Enter a number between 0 and 5: \")\n",
    "if int(value) == 1:\n",
    "    print('You entered', value)\n",
    "elif int(value) == 2:\n",
    "    print('You entered', value)\n",
    "elif int(value) == 3:\n",
    "    print('You entered', value)\n",
    "elif int(value) == 4:\n",
    "    print('You entered', value)\n",
    "else:\n",
    "    print(\"It's not in the choices\")\n",
    "\n",
    "# later we will learn how to handle errors"
   ]
  },
  {
   "cell_type": "markdown",
   "metadata": {},
   "source": [
    "### [`if` expression](https://docs.python.org/3.5/reference/expressions.html#conditional-expressions)\n",
    "\n",
    "This syntax is more commonly known in other languages as a \"ternary operation\" (there's no `?` operator in this case)."
   ]
  },
  {
   "cell_type": "code",
   "execution_count": null,
   "metadata": {},
   "outputs": [],
   "source": [
    "cat_is_away = True\n",
    "print(\"Mouse will play!\") if cat_is_away else print(\"Meow!\")"
   ]
  },
  {
   "cell_type": "markdown",
   "metadata": {},
   "source": [
    "### List comprehension with a condition"
   ]
  },
  {
   "cell_type": "code",
   "execution_count": null,
   "metadata": {},
   "outputs": [],
   "source": [
    "[value for value in range(10) if value % 2 == 0]"
   ]
  },
  {
   "cell_type": "markdown",
   "metadata": {},
   "source": [
    "## Loops and Iteration\n",
    "\n",
    "Python provides several ways to loop and iterate using the `for` and `while` keywords."
   ]
  },
  {
   "cell_type": "markdown",
   "metadata": {},
   "source": [
    "### [List comprehension](https://docs.python.org/3/tutorial/datastructures.html#list-comprehensions)\n",
    "\n",
    "List comprehensions provide a concise way to create lists. Common applications are to make new lists where each element is the result of some operations applied to each member of another sequence or iterable, or to create a subsequence of those elements that satisfy a certain condition."
   ]
  },
  {
   "cell_type": "code",
   "execution_count": null,
   "metadata": {},
   "outputs": [],
   "source": [
    "[value for value in range(10)]"
   ]
  },
  {
   "cell_type": "code",
   "execution_count": null,
   "metadata": {},
   "outputs": [],
   "source": [
    "[value for value in range(10) if value % 2 == 0]"
   ]
  },
  {
   "cell_type": "markdown",
   "metadata": {},
   "source": [
    "Built-in functions that are used with loops also work in comprehensions:\n",
    "\n",
    "* `range()`\n",
    "* `enumerate()`\n",
    "* `sorted()`\n",
    "* `reversed()`"
   ]
  },
  {
   "cell_type": "markdown",
   "metadata": {},
   "source": [
    "### Set and Dictionary Comprehension\n",
    "\n",
    "Set comprehensions work in the same way as list comprehensions, except the iterable is a set and it uses braces.\n",
    "\n",
    "Dictionary comprehensions also work in the same way, except instead of just getting a value, the key is also available. It also uses braces."
   ]
  },
  {
   "cell_type": "code",
   "execution_count": null,
   "metadata": {},
   "outputs": [],
   "source": [
    "{x for x in 'abracadabra' if x not in 'abc'}"
   ]
  },
  {
   "cell_type": "code",
   "execution_count": null,
   "metadata": {},
   "outputs": [],
   "source": [
    "my_food = {\n",
    "    'rice_name': 'plain rice',\n",
    "    'ulam_name': ['fried chicken'],\n",
    "    'rice_quantity': 3,\n",
    "    'drink': 'iced tea',\n",
    "    'soup_name': 'free soup',\n",
    "}\n",
    "\n",
    "{key: value for key, value in my_food.items()}"
   ]
  },
  {
   "cell_type": "markdown",
   "metadata": {},
   "source": [
    "### [`for` statement](https://docs.python.org/3/tutorial/controlflow.html#for-statements)\n",
    "\n",
    "The `for` statement iterates over the items of any sequence (a list or a string), in the order that they appear in the sequence. The variable after the keyword `for` represents an element in the sequence. The indented block below executes during each iteration."
   ]
  },
  {
   "cell_type": "code",
   "execution_count": null,
   "metadata": {},
   "outputs": [],
   "source": [
    "words = [\n",
    "    'pero',\n",
    "    'grabe',\n",
    "    'grabe',\n",
    "]\n",
    "\n",
    "for word in words:\n",
    "    print(word)"
   ]
  },
  {
   "cell_type": "markdown",
   "metadata": {},
   "source": [
    "#### List comprehension example as `for` loop"
   ]
  },
  {
   "cell_type": "code",
   "execution_count": null,
   "metadata": {},
   "outputs": [],
   "source": [
    "# my_list = [value for value in range(10)]\n",
    "my_list = []\n",
    "for value in range(10):\n",
    "    my_list.append(value)\n",
    "\n",
    "print(my_list)"
   ]
  },
  {
   "cell_type": "markdown",
   "metadata": {},
   "source": [
    "Use [`enumerate()`](https://docs.python.org/3.5/library/functions.html#enumerate) to get the index while looping:"
   ]
  },
  {
   "cell_type": "code",
   "execution_count": null,
   "metadata": {},
   "outputs": [],
   "source": [
    "for index, word in enumerate(words):\n",
    "    print(index, word)"
   ]
  },
  {
   "cell_type": "markdown",
   "metadata": {},
   "source": [
    "Use [`range()`](https://docs.python.org/3.5/library/stdtypes.html#ranges) if you want to loop a certain number of times or over a sequence of numbers:"
   ]
  },
  {
   "cell_type": "code",
   "execution_count": null,
   "metadata": {},
   "outputs": [],
   "source": [
    "for number in range(11):\n",
    "    print(number)"
   ]
  },
  {
   "cell_type": "markdown",
   "metadata": {},
   "source": [
    "### [`break, continue, and else in Loops`](https://docs.python.org/3.5/tutorial/controlflow.html#break-and-continue-statements-and-else-clauses-on-loops)\n",
    "\n",
    "`break` stops the loop and the rest of the iterations will no longer proceed."
   ]
  },
  {
   "cell_type": "code",
   "execution_count": null,
   "metadata": {},
   "outputs": [],
   "source": [
    "for number in range(2, 7):\n",
    "    if num % 2 == 0:\n",
    "        print(\"Found an even number\", number)\n",
    "        break  # This stops the whole loop\n",
    "    print(\"Found a number\", number)"
   ]
  },
  {
   "cell_type": "markdown",
   "metadata": {},
   "source": [
    "`continue` stops the current iteration will no longer proceed and continues with the next iteration"
   ]
  },
  {
   "cell_type": "code",
   "execution_count": null,
   "metadata": {},
   "outputs": [],
   "source": [
    "for number in range(2, 7):\n",
    "    if number % 2 == 0:\n",
    "        print(\"Found an even number\", number)\n",
    "        continue  # If an even number is found, the next line will not run \n",
    "    print(\"Found a number\", number)"
   ]
  },
  {
   "cell_type": "markdown",
   "metadata": {},
   "source": [
    "`else` executes when the loop is not terminated by a break statement or when the list is exhausted."
   ]
  },
  {
   "cell_type": "code",
   "execution_count": null,
   "metadata": {},
   "outputs": [],
   "source": [
    "for number in range(3):\n",
    "    print(number)\n",
    "else:\n",
    "    print('Done!')"
   ]
  },
  {
   "cell_type": "markdown",
   "metadata": {},
   "source": [
    "### [`while` statement](https://docs.python.org/3/reference/compound_stmts.html#while)\n",
    "\n",
    "The `while` statement iterates as long as the condition is true. It is the programmer's responsibility to make sure that the condition to exit the loop is fulfilled. Unless it is intended to run forever, for example as a daemon."
   ]
  },
  {
   "cell_type": "code",
   "execution_count": null,
   "metadata": {},
   "outputs": [],
   "source": [
    "x = 0\n",
    "while x < 11:\n",
    "    print(x)\n",
    "        x += 1"
   ]
  },
  {
   "cell_type": "code",
   "execution_count": null,
   "metadata": {},
   "outputs": [],
   "source": [
    "while True:\n",
    "    print('May forever')"
   ]
  },
  {
   "cell_type": "markdown",
   "metadata": {},
   "source": [
    "`else` executes when the loop is not terminated by a break statement or when the loop exits normally."
   ]
  },
  {
   "cell_type": "code",
   "execution_count": null,
   "metadata": {},
   "outputs": [],
   "source": [
    "x = 0\n",
    "while x < 4:\n",
    "    print(x)\n",
    "    x += 1\n",
    "else:\n",
    "    print('Done!')"
   ]
  },
  {
   "cell_type": "markdown",
   "metadata": {},
   "source": [
    "## [Error and Exceptions](https://docs.python.org/3/tutorial/errors.html#errors-and-exceptions)\n",
    "\n",
    "### Errors\n",
    "\n",
    "When the parser detects invalid code, it tries to identify where the error occured. The code will not execute. The solution here is to fix the code by following Python's syntax."
   ]
  },
  {
   "cell_type": "code",
   "execution_count": null,
   "metadata": {},
   "outputs": [],
   "source": [
    "print('Hello world')\n",
    "while True print('Hello world')"
   ]
  },
  {
   "cell_type": "code",
   "execution_count": null,
   "metadata": {},
   "outputs": [],
   "source": [
    "print('Hello world')\n",
    "while True:\n",
    "print('Hello world')"
   ]
  },
  {
   "cell_type": "code",
   "execution_count": null,
   "metadata": {},
   "outputs": [],
   "source": [
    "print('Hello world')\n",
    "message = \"Hello world\"\n",
    "print(massage)"
   ]
  },
  {
   "cell_type": "markdown",
   "metadata": {},
   "source": [
    "### Exceptions\n",
    "\n",
    "Even if the syntax is correct, errors can still occur during excuton. These are called _Exceptions_ and they can be handled."
   ]
  },
  {
   "cell_type": "code",
   "execution_count": null,
   "metadata": {},
   "outputs": [],
   "source": [
    "1/0"
   ]
  },
  {
   "cell_type": "code",
   "execution_count": null,
   "metadata": {},
   "outputs": [],
   "source": [
    "spam + 1"
   ]
  },
  {
   "cell_type": "code",
   "execution_count": null,
   "metadata": {},
   "outputs": [],
   "source": [
    "'1' + 1"
   ]
  },
  {
   "cell_type": "markdown",
   "metadata": {},
   "source": [
    "### Exception Handling\n",
    "\n",
    "The `try` statement is used to handle exceptions during execution.\n",
    "\n",
    "The `except` clause allows you to specify exception handlers. There can be one or more `except` clauses and each can have one or more exceptions by enclosing them in a parenthesis. Followed by an `Exception` class, it allows you to catch specific exceptions and control how each is handled. The `Exception` class can also be omitted, will be considered a wildcard but this is bad practice since it hides programming errors. Exceptions can be aliased using the `as` keyword so it can be used as a variable in the error's context."
   ]
  },
  {
   "cell_type": "code",
   "execution_count": null,
   "metadata": {},
   "outputs": [],
   "source": [
    "while True:\n",
    "    try:\n",
    "        x = int(input(\"Please enter a number: \"))\n",
    "    except ValueError:\n",
    "        print(\"Oops! Not a valid number. Try again...\")\n",
    "    break"
   ]
  },
  {
   "cell_type": "markdown",
   "metadata": {},
   "source": [
    "#### Multiple Exceptions"
   ]
  },
  {
   "cell_type": "code",
   "execution_count": null,
   "metadata": {},
   "outputs": [],
   "source": [
    "while True:\n",
    "    try:\n",
    "        x = int(input(\"Please enter a number: \"))\n",
    "    except (ValueError, KeyboardInterrupt):\n",
    "        print(\"Oops! Not a valid number. Try again...\")\n",
    "    break"
   ]
  },
  {
   "cell_type": "markdown",
   "metadata": {},
   "source": [
    "The optional `else` clause executes if all the lines within the try clause execute without errors. Therefore, no exceptions occured. Being after the scope of the `try` statement, exceptions within the else clause are no longer handled by any except clause above it."
   ]
  },
  {
   "cell_type": "code",
   "execution_count": null,
   "metadata": {},
   "outputs": [],
   "source": [
    "while True:\n",
    "    try:\n",
    "        x = int(input(\"Please enter a number: \"))\n",
    "    except ValueError:\n",
    "        print(\"Oops! Not a valid number. Try again...\")\n",
    "    else:\n",
    "        break"
   ]
  },
  {
   "cell_type": "markdown",
   "metadata": {},
   "source": [
    "The `raise` statement allows you to force a specified exception to occur."
   ]
  },
  {
   "cell_type": "code",
   "execution_count": null,
   "metadata": {},
   "outputs": [],
   "source": [
    "print(\"Hello\")\n",
    "raise Exception # shorthand for 'raise Exception()'\n",
    "print(\"world\")"
   ]
  },
  {
   "cell_type": "markdown",
   "metadata": {},
   "source": [
    "### [Built-in Exceptions](https://docs.python.org/3/library/exceptions.html#built-in-exceptions)\n",
    "\n",
    "#### [Exception Heirarchy](https://docs.python.org/3/library/exceptions.html#exception-hierarchy)"
   ]
  },
  {
   "cell_type": "markdown",
   "metadata": {},
   "source": [
    "### Clean-up Actions\n",
    "\n",
    "The `try` statement has another optional `finally` clause which is intended to define clean-up actions that must be executed under all circumstances.\n",
    "\n"
   ]
  },
  {
   "cell_type": "code",
   "execution_count": null,
   "metadata": {},
   "outputs": [],
   "source": [
    "try:\n",
    "    raise KeyboardInterrupt\n",
    "finally:\n",
    "    print('Goodbye, world!')\n"
   ]
  },
  {
   "cell_type": "markdown",
   "metadata": {},
   "source": [
    "#### Full Example"
   ]
  },
  {
   "cell_type": "code",
   "execution_count": null,
   "metadata": {},
   "outputs": [],
   "source": [
    "def divide(x, y):\n",
    "    try:\n",
    "        result = int(x) / int(y)\n",
    "    except ZeroDivisionError:\n",
    "        print(\"division by zero!\")\n",
    "    except (ValueError, KeyboardInterrupt):\n",
    "        print(\"numbers only!\")\n",
    "    except Exception as err:\n",
    "        print(\"New error occurred: \", err)\n",
    "        else:\n",
    "        print(\"result is\", result)\n",
    "    finally:\n",
    "        print(\"finally!\")\n",
    "\n",
    "x = input(\"Input x: \")\n",
    "y = input(\"Input y: \")\n",
    "divide(x, y)"
   ]
  },
  {
   "cell_type": "markdown",
   "metadata": {},
   "source": [
    "## The `pass` statement\n",
    "\n",
    "`pass` does nothing. It can be used when a statement is required syntactically but the program requires no action."
   ]
  },
  {
   "cell_type": "code",
   "execution_count": null,
   "metadata": {},
   "outputs": [],
   "source": [
    "def tmp():\n",
    "    pass"
   ]
  },
  {
   "cell_type": "code",
   "execution_count": null,
   "metadata": {},
   "outputs": [],
   "source": [
    "try:\n",
    "    print(\"DO NOT DO THIS!\")\n",
    "except:\n",
    "    pass"
   ]
  },
  {
   "cell_type": "markdown",
   "metadata": {},
   "source": [
    "## Functions"
   ]
  },
  {
   "cell_type": "code",
   "execution_count": null,
   "metadata": {},
   "outputs": [],
   "source": []
  },
  {
   "cell_type": "markdown",
   "metadata": {},
   "source": [
    "## Summary\n",
    "\n",
    "* Conditions\n",
    "  * `if` statement\n",
    "  * `if` expression\n",
    "* Loops and Iteration\n",
    "  * `list` comprehension\n",
    "    * `set` and `dictionary` comprehension\n",
    "  * `for` loop\n",
    "  * `while loop\n",
    "* Errors and Exceptions\n",
    "  * `Error`\n",
    "  * `Exception`\n",
    "  * Built-in Exceptions\n",
    "  * Exception Handling\n",
    "* `pass`\n",
    "* Functions"
   ]
  }
 ],
 "metadata": {
  "kernelspec": {
   "display_name": "Python 3",
   "language": "python",
   "name": "python3"
  },
  "language_info": {
   "codemirror_mode": {
    "name": "ipython",
    "version": 3
   },
   "file_extension": ".py",
   "mimetype": "text/x-python",
   "name": "python",
   "nbconvert_exporter": "python",
   "pygments_lexer": "ipython3",
   "version": "3.7.2"
  }
 },
 "nbformat": 4,
 "nbformat_minor": 2
}

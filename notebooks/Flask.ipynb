{
 "cells": [
  {
   "cell_type": "markdown",
   "metadata": {},
   "source": [
    "# Basic Web Development with Flask\n",
    "\n",
    "The internet is basically our computers talking to each other. When you surf online, you're instructing your computer to talk to another computer, usually using your browser. This is possible because there's already an agreement on how these computers find each other, how to know if a computer can talk about something, if it will talk to them, and how to talk to each other if and when they agree to talk. In each step, there are technologies and protocols that allow this to happen."
   ]
  },
  {
   "cell_type": "markdown",
   "metadata": {},
   "source": [
    "### [HTTP](https://en.wikipedia.org/wiki/Hypertext_Transfer_Protocol)\n",
    "\n",
    "We will use Python to teach our computer how to respond to other computers. It will become a server that serves webpages. It will communicate over Hypertext Transfer Protocol or HTTP. We'll create a program that lets our computer respond when another computer makes a request.\n"
   ]
  },
  {
   "cell_type": "markdown",
   "metadata": {},
   "source": [
    "### [WSGI](https://www.python.org/dev/peps/pep-0333/)\n",
    "\n",
    "In Python, there is a standard called Web Server Gateway Interface or WSGI that describes way for web servers, applications or frameworks to communicate over the web. Flask will handle this for us.\n"
   ]
  },
  {
   "cell_type": "markdown",
   "metadata": {},
   "source": [
    "### [Flask](http://flask.pocoo.org/)\n",
    "\n",
    "Flask is a web development micro framework for Python. It's lightweight and bare bones but is enough for a lot of cases.\n",
    "\n",
    "Now that you have a better grasp of what you can do with Python and an idea of some web development concepts, we'll start doing more exciting things like building a website. There are other frameworks but we'll be using the micro framework called Flask because it's easier for beginners to learn.\n",
    "\n",
    "Flask depends on two libraries:\n",
    "\n",
    "* [Werkzeug](http://werkzeug.pocoo.org/docs/0.14/) - an HTTP and WSGI utility library for Python.\n",
    "* [Jinja2](http://jinja.pocoo.org/docs/2.10/) - a templating engine.\n",
    "\n",
    "I mentioned WSGI earlier. Under the hood, the Werkzeug library handles it for us so we don't do it manually. I also mentioned HTTP. We'll send documents written in Hypertext Markup Language or HTML over HTTP. We are using the Jinja2 library to make things easier."
   ]
  },
  {
   "cell_type": "code",
   "execution_count": null,
   "metadata": {},
   "outputs": [],
   "source": [
    "from flask import Flask\n",
    "\n",
    "app = Flask(__name__)\n",
    "\n",
    "@app.route(\"/\")\n",
    "def hello():\n",
    "    return \"Hello World!\"\n"
   ]
  },
  {
   "cell_type": "code",
   "execution_count": null,
   "metadata": {},
   "outputs": [],
   "source": [
    "from flask import Flask, render_template\n",
    "\n",
    "app = Flask(__name__)\n",
    "\n",
    "@app.route('/<name>')\n",
    "def hello_name(name):\n",
    "    \"\"\"Respond with a Hello name\"\"\"\n",
    "    return 'Hello {0}!'.format(name)\n"
   ]
  },
  {
   "cell_type": "code",
   "execution_count": null,
   "metadata": {},
   "outputs": [],
   "source": [
    "from flask import Flask\n",
    "\n",
    "app = Flask(__name__)\n",
    "\n",
    "@app.route('/error')\n",
    "def error():\n",
    "    \"\"\"Return nothing. Responds with the debugger screen.\"\"\"\n",
    "    return\n"
   ]
  },
  {
   "cell_type": "code",
   "execution_count": null,
   "metadata": {},
   "outputs": [],
   "source": [
    "import json\n",
    "from flask import Flask\n",
    "from flask.views import MethodView\n",
    "\n",
    "app = Flask(__name__)\n",
    "\n",
    "\n",
    "class API(MethodView):\n",
    "    \"\"\"Class-based view demo.\"\"\"\n",
    "\n",
    "    def get(self, args):\n",
    "        \"\"\"Return arg data.\"\"\"\n",
    "        data = {'args': args}\n",
    "        return json.dumps(data)\n",
    "\n",
    "    def post(self):\n",
    "        \"\"\"Return 'OK'.\"\"\"\n",
    "        # Process submitted data\n",
    "        return 'OK'\n",
    "\n",
    "app.add_url_rule('/api/<arg>', view_func=API.as_view('api'))\n"
   ]
  },
  {
   "cell_type": "markdown",
   "metadata": {},
   "source": [
    "## Activity\n",
    "\n",
    "* Practice using both kinds of views (one at a time)\n",
    "  * Function-Based View\n",
    "  * Class-Based View\n",
    "\n",
    "* Write views that accept variables via:\n",
    "  * URL `/<variable>`\n",
    "  * Query string `(?key=value&other=stuff)`\n",
    "  * Form\n",
    "\n",
    "## Tasks\n",
    "\n",
    "* Create a homepage\n",
    "* Render a template with an image\n",
    "* Create a simple login page\n",
    "* Use WTForms to create a login form and validate input\n",
    "* Redirect to a user profile page after login\n",
    "* Homepage should show the logout link when logged in, otherwise show the login form\n"
   ]
  },
  {
   "cell_type": "code",
   "execution_count": null,
   "metadata": {},
   "outputs": [],
   "source": []
  }
 ],
 "metadata": {
  "kernelspec": {
   "display_name": "Python 3",
   "language": "python",
   "name": "python3"
  },
  "language_info": {
   "codemirror_mode": {
    "name": "ipython",
    "version": 3
   },
   "file_extension": ".py",
   "mimetype": "text/x-python",
   "name": "python",
   "nbconvert_exporter": "python",
   "pygments_lexer": "ipython3",
   "version": "3.7.2"
  }
 },
 "nbformat": 4,
 "nbformat_minor": 2
}

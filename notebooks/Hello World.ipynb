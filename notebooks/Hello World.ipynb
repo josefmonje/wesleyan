{
 "cells": [
  {
   "cell_type": "markdown",
   "metadata": {},
   "source": [
    "# Hello World\n",
    "\n",
    "The obligatory \"Hello World\" program.\n",
    "\n",
    "## Interactive Mode\n",
    "\n",
    "In interactive mode, type:"
   ]
  },
  {
   "cell_type": "code",
   "execution_count": null,
   "metadata": {},
   "outputs": [],
   "source": [
    "print('Hello world')"
   ]
  },
  {
   "cell_type": "markdown",
   "metadata": {},
   "source": [
    "## Python Script\n",
    "\n",
    "Create a `hello_world.py` file and in it, type the same thing.\n",
    "\n",
    "Run your script by typing in the command-line:\n",
    "\n",
    "```shell\n",
    "python hello_world.py\n",
    "```\n",
    "\n",
    "_Congratulations_! You have written your first python script."
   ]
  },
  {
   "cell_type": "markdown",
   "metadata": {},
   "source": [
    "## Print function\n",
    "\n",
    "`print` is a function in Python 3.\n",
    "* It used to be a statement in @ython 2.\n",
    "\n",
    "`print` is a built-in function. If you typed `builtins` in the `help` utility, you will find it in there, but there's so much in there that you have to find it. Both print and help are part of builtins. You can simply use the help function to directly find out about the print function:"
   ]
  },
  {
   "cell_type": "code",
   "execution_count": null,
   "metadata": {},
   "outputs": [],
   "source": [
    "help('print')"
   ]
  },
  {
   "cell_type": "markdown",
   "metadata": {},
   "source": [
    "Help is also a built-in function. We can use help to learn about help:"
   ]
  },
  {
   "cell_type": "code",
   "execution_count": null,
   "metadata": {},
   "outputs": [],
   "source": [
    "help('help')"
   ]
  },
  {
   "cell_type": "markdown",
   "metadata": {},
   "source": [
    "## Built-in Functions\n",
    "\n",
    "You can find out more about the available built-in functions in the [documentation](https://docs.python.org/3/library/functions.html). Since this is only a beginner lesson, we won't discuss everything. We'll only learn some select information about a topic. It will be something that's just enough to learn it, something that will be used often and easy to internalize so you can move on to the other things that weren't taught yet. For this, you already know about the documentation, and `help()`."
   ]
  },
  {
   "cell_type": "markdown",
   "metadata": {},
   "source": [
    "## Python is Dynamic\n",
    "\n",
    "Dynamic means changing something at run-time, something that static languages perform during compilation.\n",
    "\n",
    "* Names are bound to objects at execution time by means of assignment statements\n",
    "* Variables assigned to names are not bound to types, values have types\n",
    "* It's possible to bind a name to objects of different types during the execution of the program\n",
    "* Functions and objects can be altered at runtime"
   ]
  },
  {
   "cell_type": "code",
   "execution_count": null,
   "metadata": {},
   "outputs": [],
   "source": [
    "value = '31337'\n",
    "print(value)\n",
    "print(type(value))\n",
    "\n",
    "value = 31337\n",
    "print(value)\n",
    "print(type(value))\n",
    "\n",
    "def my_function():\n",
    "    return\n",
    "\n",
    "value = my_function\n",
    "print(value)\n",
    "print(type(value))"
   ]
  },
  {
   "cell_type": "markdown",
   "metadata": {},
   "source": [
    "## Python is Strongly Typed\n",
    "\n",
    "The type of a value doesn't change unexpectedly. \n",
    "\n",
    "* Variables assigned to names are not bound to types, values have types\n",
    "* Object types do not change\n",
    "* Every change of type requires an explicit conversion"
   ]
  },
  {
   "cell_type": "code",
   "execution_count": null,
   "metadata": {},
   "outputs": [],
   "source": [
    "value = '31337'\n",
    "print(value + value)\n",
    "print(type(value))\n",
    "\n",
    "value = int('31337')\n",
    "print(value + value)\n",
    "print(type(value))\n",
    "\n",
    "value = float('31337')\n",
    "print(value + value)\n",
    "print(type(value))\n",
    "\n",
    "value = str(31337)\n",
    "print(value + value)\n",
    "print(type(value))\n",
    "\n",
    "# surprise! (this is a comment)\n",
    "value = int('h4x0r')\n",
    "print(value + value)\n",
    "print(type(value))\n",
    "\n",
    "\"\"\"\n",
    "This is a multi-line comment\n",
    "\"\"\""
   ]
  },
  {
   "cell_type": "markdown",
   "metadata": {},
   "source": [
    "## Multiple Assignment\n",
    "\n",
    "Previously, we assigned a single variable to a name. Assigning to multiple names is also possible:"
   ]
  },
  {
   "cell_type": "code",
   "execution_count": null,
   "metadata": {},
   "outputs": [],
   "source": [
    "variable1 = variable2 = variable3 = 1\n",
    "print(variable1, variable2, variable3)"
   ]
  },
  {
   "cell_type": "markdown",
   "metadata": {},
   "source": [
    "Assigning multiple variables at the same time is also possible:"
   ]
  },
  {
   "cell_type": "code",
   "execution_count": null,
   "metadata": {},
   "outputs": [],
   "source": [
    "variable1, variable2, variable3 = 1, 2, 3\n",
    "print(variable1, variable2, variable3)\n",
    "# printing multiple variables at the same time is also possible"
   ]
  },
  {
   "cell_type": "markdown",
   "metadata": {},
   "source": [
    "## Naming Rules\n",
    "\n",
    "* Variables names must start with a letter or an underscore, such as:\n",
    "  * variable\n",
    "  * _variable\n",
    "* The remainder of your variable name may consist of letters, numbers, and underscores.\n",
    "  * variable\n",
    "  * variable1\n",
    "  * my_variable\n",
    "* Names are case sensitive. The examples below are each, a different variable:\n",
    "  * case_sensitive\n",
    "  * CASE_SENSITIVE\n",
    "  * case_Sensitive\n",
    "* Reserved keywords cannot be used as identifier names"
   ]
  },
  {
   "cell_type": "code",
   "execution_count": null,
   "metadata": {},
   "outputs": [],
   "source": [
    "help('keywords')"
   ]
  },
  {
   "cell_type": "code",
   "execution_count": null,
   "metadata": {},
   "outputs": [],
   "source": [
    "None = 'try lang'"
   ]
  },
  {
   "cell_type": "markdown",
   "metadata": {},
   "source": [
    "## Other Common Errors\n",
    "\n",
    "We purposely encountered a few errors earlier:\n",
    "\n",
    "* ValueError\n",
    "* SyntaxError\n",
    "\n",
    "Here are other common errors for beginners:"
   ]
  },
  {
   "cell_type": "code",
   "execution_count": null,
   "metadata": {},
   "outputs": [],
   "source": [
    "print(undefined)"
   ]
  },
  {
   "cell_type": "code",
   "execution_count": null,
   "metadata": {},
   "outputs": [],
   "source": [
    "def function():\n",
    "pass"
   ]
  },
  {
   "cell_type": "markdown",
   "metadata": {},
   "source": [
    "# Summary\n",
    "\n",
    "In this notebook you learned:\n",
    "\n",
    "* Python's interactive mode\n",
    "* Writing Python scripts\n",
    "* Built-in functions in Python\n",
    "    * help\n",
    "    * print\n",
    "    * type\n",
    "    * str\n",
    "    * int\n",
    "    * float\n",
    "* Python as a dynamic and strongly typed language\n",
    "* Writing comments\n",
    "* Assigning variables\n",
    "* Naming rules\n",
    "* Common errors"
   ]
  },
  {
   "cell_type": "markdown",
   "metadata": {},
   "source": [
    "# Tips\n",
    "\n",
    "* Try to fix the errors\n",
    "* Use the help function to learn about the input function\n",
    "* Use the input function in a script and assign the value to a variable"
   ]
  },
  {
   "cell_type": "markdown",
   "metadata": {},
   "source": [
    "### Related Info in the Python Wiki\n",
    "\n",
    "* [Why is Python a dynamic language and also a strongly typed language](https://wiki.python.org/moin/Why%20is%20Python%20a%20dynamic%20language%20and%20also%20a%20strongly%20typed%20language)"
   ]
  },
  {
   "cell_type": "code",
   "execution_count": null,
   "metadata": {},
   "outputs": [],
   "source": []
  }
 ],
 "metadata": {
  "kernelspec": {
   "display_name": "Python 3",
   "language": "python",
   "name": "python3"
  },
  "language_info": {
   "codemirror_mode": {
    "name": "ipython",
    "version": 3
   },
   "file_extension": ".py",
   "mimetype": "text/x-python",
   "name": "python",
   "nbconvert_exporter": "python",
   "pygments_lexer": "ipython3",
   "version": "3.7.2"
  }
 },
 "nbformat": 4,
 "nbformat_minor": 2
}

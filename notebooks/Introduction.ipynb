{
 "cells": [
  {
   "cell_type": "markdown",
   "metadata": {},
   "source": [
    "# Introduction\n",
    "\n",
    "## Python Website\n",
    "\n",
    "Link: [https://www.python.org/](https://www.python.org/)\n",
    "\n",
    "We are going to start from scratch. We will download and install Python, verify if it was properly installed and run it. We will also check some resources available to us in our journey to learn Python."
   ]
  },
  {
   "cell_type": "markdown",
   "metadata": {},
   "source": [
    "## Downloads\n",
    "\n",
    "Link: [https://www.python.org/downloads/](https://www.python.org/downloads/)\n",
    "\n",
    "Version: Latest version for your OS\n",
    "\n",
    "* We are using Python 3.x\n",
    "* Python 2.x is the legacy version\n",
    "* [Difference between 2 and 3](https://wiki.python.org/moin/Python2orPython3)\n",
    "* [What's new in Python 3](https://docs.python.org/3/whatsnew/3.0.html)\n",
    "\n",
    "If you can save the installer in a clean USB drive and pass it to your seatmate, that will ease the network from our simultaneous downloads."
   ]
  },
  {
   "cell_type": "markdown",
   "metadata": {},
   "source": [
    "## Documentation\n",
    "\n",
    "Link: [https://www.python.org/doc/](https://www.python.org/doc/)\n",
    "\n",
    "Python is well-documented. The Python website's documentation section can provide you with almost all the information regarding Python and learn the basics."
   ]
  },
  {
   "cell_type": "markdown",
   "metadata": {},
   "source": [
    "# Installing Python & pip\n",
    "\n",
    "## Python\n",
    "\n",
    "* Check that python is installed (properly)\n",
    "  * For Windows users, make sure that python is added to `PATH` OS environment variable\n",
    "  ![add to path](../images/python-installer-add-path.png)\n",
    "  * For Linux users, use your package manager\n",
    "  * For macOS users, install [`homebrew`](https://brew.sh/) and use it to install packages like Python\n",
    "  * Use Command Prompt for Windows users, Terminal for macOS and Linux users\n",
    "    * Will be collectively referred to as `command-line`\n",
    "\n",
    "```shell\n",
    "C:\\> python --version\n",
    "```\n",
    "\n",
    "## Pip\n",
    "\n",
    "  * The `pip` command is a tool for installing and managing Python packages\n",
    "  * `pip` is installed together with Python in newer versions\n",
    "    * Some older versions of Python do not include pip\n",
    "      * For more details or troubleshooting: [How to Install PIP for Python on Windows, Mac, and Linux](https://www.makeuseof.com/tag/install-pip-for-python/)\n",
    "\n",
    "```shell\n",
    "C:\\> pip -V\n",
    "```\n",
    "\n",
    "If you can see your installed versions, then they are installed properly."
   ]
  },
  {
   "cell_type": "markdown",
   "metadata": {},
   "source": [
    "## Interactive Mode\n",
    "\n",
    "In your command-line type:\n",
    "\n",
    "```shell\n",
    "C:\\> python\n",
    "```\n",
    "\n",
    "```python\n",
    "Python <version>\n",
    "Something something...\n",
    "Type \"help\", \"copyright\", \"credits\" or \"license\" for more information.\n",
    ">>>\n",
    "```\n",
    "\n",
    "To exit the interactive mode of the Python interpreter, type `exit()`"
   ]
  },
  {
   "cell_type": "markdown",
   "metadata": {},
   "source": [
    "## Interactive Help\n",
    "\n",
    "```\n",
    ">>> help()\n",
    " \n",
    "Welcome to Python <version>'s help utility!\n",
    "\n",
    "If this is your first time using Python, you should definitely check out\n",
    "the tutorial on the Internet at https://docs.python.org/<version>/tutorial/.\n",
    "\n",
    "Enter the name of any module, keyword, or topic to get help on writing\n",
    "Python programs and using Python modules.  To quit this help utility and\n",
    "return to the interpreter, just type \"quit\".\n",
    "\n",
    "To get a list of available modules, keywords, symbols, or topics, type\n",
    "\"modules\", \"keywords\", \"symbols\", or \"topics\".  Each module also comes\n",
    "with a one-line summary of what it does; to list the modules whose name\n",
    "or summary contain a given string such as \"spam\", type \"modules spam\".\n",
    "\n",
    "help>\n",
    "help> quit\n",
    "```\n",
    "\n",
    "To exit internative help, type `quit`"
   ]
  },
  {
   "cell_type": "markdown",
   "metadata": {},
   "source": [
    "## Install a package\n",
    "\n",
    "To install a package, just type the name of the package after the `pip install` command. You can install multiple packages at the same time.\n",
    "\n",
    "```shell\n",
    "C:\\> pip install jupyter notebook\n",
    "```"
   ]
  },
  {
   "cell_type": "markdown",
   "metadata": {},
   "source": [
    "# Summary\n",
    "\n",
    "In this notebook you learned:\n",
    "\n",
    "* How to install and run `python`and `pip`\n",
    "* The difference between `command-line` and `python` prompts\n",
    "* The python `help` utility and function\n",
    "* The difference between the python `interactive mode` and `help mode`\n",
    "* How to find more information about Python within Python even when you don't have internet\n",
    "* How to install packages using pip"
   ]
  },
  {
   "cell_type": "markdown",
   "metadata": {},
   "source": [
    "## Tips\n",
    "\n",
    "* The messages shown by Python are **important**. Do not disregard them. Read them. This is specially true for error messages.\n",
    "* When you don't understand something, consult the documentation to gain more context. You have the help utility/function and the online version of the documentation.\n",
    "* When you still don't understand the problem, you can copy the error and use a search engine to find the solution. This does not work for all cases so it's still better to try to understand the problem first.\n",
    "* Ask your seatmate if they have solved it on their own. But more importantly, understand how it was solved and why you weren't able to solve the problem.\n",
    "* Aside from `modules`, `keywords`, `symbols` and `topics`, try `builtins`"
   ]
  },
  {
   "cell_type": "code",
   "execution_count": null,
   "metadata": {},
   "outputs": [],
   "source": []
  },
  {
   "cell_type": "code",
   "execution_count": null,
   "metadata": {},
   "outputs": [],
   "source": []
  },
  {
   "cell_type": "code",
   "execution_count": null,
   "metadata": {},
   "outputs": [],
   "source": []
  }
 ],
 "metadata": {
  "kernelspec": {
   "display_name": "Python 3",
   "language": "python",
   "name": "python3"
  },
  "language_info": {
   "codemirror_mode": {
    "name": "ipython",
    "version": 3
   },
   "file_extension": ".py",
   "mimetype": "text/x-python",
   "name": "python",
   "nbconvert_exporter": "python",
   "pygments_lexer": "ipython3",
   "version": "3.7.2"
  }
 },
 "nbformat": 4,
 "nbformat_minor": 2
}

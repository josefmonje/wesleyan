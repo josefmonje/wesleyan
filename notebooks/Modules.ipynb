{
 "cells": [
  {
   "cell_type": "markdown",
   "metadata": {},
   "source": [
    "# [Modules](https://docs.python.org/3/tutorial/modules.html)\n",
    "\n",
    "## Python's Import System\n",
    "\n",
    "Python has an import module that allows you to access code that is external, relative to your script. There are various ways of importing but the most common way is via the `import` statement.\n",
    "\n",
    "We’ll use the analogy of packages as the directories on a file system and modules as files within directories. Like file system directories, packages are organized hierarchically, and packages may themselves contain subpackages, as well as regular modules.\n",
    "\n",
    "### Package\n",
    "\n",
    "Python module which can contain submodules or recursively, subpackages. Technically, a package is a Python module with a `__path__` attribute.\n",
    "\n",
    "### Module\n",
    "\n",
    "An object that serves as an organizational unit of Python code. Modules have a namespace containing arbitrary Python objects."
   ]
  },
  {
   "cell_type": "code",
   "execution_count": null,
   "metadata": {},
   "outputs": [],
   "source": [
    "import os\n",
    "print(os.path.dirname(os.path.abspath(__name__)))"
   ]
  },
  {
   "cell_type": "markdown",
   "metadata": {},
   "source": [
    "This shows us the directory name of our top-level script.\n",
    "\n",
    "Within a module, the module’s name is available as the value of the global variable `__name__`, except when it is the top-level script. Whenever a script runs as the top-level script, it's `__name__` is always `__main__`.\n",
    "\n",
    "`__name__`, and most other variables surrounded by double underlines, are special variables defined by Python.\n",
    "\n",
    "In our example, we imported `os` and used `os.path`. We can specifically import `path` without importing the whole of `os` by prefixing our import statement with `from`."
   ]
  },
  {
   "cell_type": "code",
   "execution_count": null,
   "metadata": {},
   "outputs": [],
   "source": [
    "if __name__ == '__main__':\n",
    "    main()"
   ]
  },
  {
   "cell_type": "code",
   "execution_count": null,
   "metadata": {},
   "outputs": [],
   "source": [
    "from os import path\n",
    "print(path.dirname(path.abspath(__name__)))"
   ]
  },
  {
   "cell_type": "markdown",
   "metadata": {},
   "source": [
    "## Dotted Name\n",
    "\n",
    "The package name and the __init__.py file can be thought of as one entity. When a package is imported, the `__init__.py` in that directory gets executed and any objects that are defined there reside within the package's namespace. To use a local package in code, the \"dotted module name\" is used. The dotted name is the name of the directory and/or file without the extension `.py`. Imports can be lengthy so we can use the `from` keyword to import specific packages, modules, variables, functions, or classes. It also allows us to import multiple names."
   ]
  },
  {
   "cell_type": "code",
   "execution_count": null,
   "metadata": {},
   "outputs": [],
   "source": [
    "from os import environ, path"
   ]
  },
  {
   "cell_type": "code",
   "execution_count": null,
   "metadata": {},
   "outputs": [],
   "source": [
    "environ"
   ]
  },
  {
   "cell_type": "markdown",
   "metadata": {},
   "source": [
    "## Aliasing\n",
    "\n",
    "Names can be long or the same names can be used by different modules or packages. Aliasing allows us to import and bind them to a different name conveniently using the keyword `as`."
   ]
  },
  {
   "cell_type": "code",
   "execution_count": null,
   "metadata": {},
   "outputs": [],
   "source": [
    "from os import path as ospath\n",
    "from sys import path as syspath"
   ]
  },
  {
   "cell_type": "markdown",
   "metadata": {},
   "source": [
    "### [More About Imports](https://www.python.org/dev/peps/pep-0328/)\n",
    "\n",
    "If you notice the import statement in `__init__.py` it only says `from . import module`. This is an example of a relative import. Modules within a package can import each other relatively. If an import says `from . import ...`, it means that the import path is within the same directory."
   ]
  },
  {
   "cell_type": "code",
   "execution_count": null,
   "metadata": {},
   "outputs": [],
   "source": [
    "from . import *"
   ]
  },
  {
   "cell_type": "code",
   "execution_count": null,
   "metadata": {},
   "outputs": [],
   "source": []
  },
  {
   "cell_type": "markdown",
   "metadata": {},
   "source": [
    "Using `import *` imports all submodules/packages or names from the specified path into the current namespace. This is not recommended since it clutters the namespace and it may cause inintended assignments to variables. It can make debugging difficult.\n",
    "\n",
    "In your modules, you can define `__all__` to control what can be imported from it when using `import *`. Packages can have this in its `__init__.py` file to serve as an index of modules. As a result, using `import *` only imports the names explicitly listed in `__all__`. However, `__all__` only affects import * and packages can still be imported explicitly by their names."
   ]
  },
  {
   "cell_type": "code",
   "execution_count": null,
   "metadata": {},
   "outputs": [],
   "source": [
    "__all__ = [\n",
    "    'ask_ok',\n",
    "    'divide',\n",
    "    'incrementer',\n",
    "]"
   ]
  },
  {
   "cell_type": "markdown",
   "metadata": {},
   "source": [
    "## [Python's Standard Library](https://docs.python.org/3/library/index.html#the-python-standard-library)\n",
    "\n",
    "Python’s standard library is very extensive, offering a wide range of facilities. The library contains built-in modules (written in C) that provide access to system functionality such as file I/O that would otherwise be inaccessible to Python programmers, as well as modules written in Python that provide standardized solutions for many problems that occur in everyday programming. Some of these modules are explicitly designed to encourage and enhance the portability of Python programs by abstracting away platform-specifics into platform-neutral APIs.\n",
    "\n",
    "In addition to the standard library, there is a growing collection of several thousand components (from individual programs and modules to packages and entire application development frameworks), available from the Python Package Index."
   ]
  },
  {
   "cell_type": "code",
   "execution_count": null,
   "metadata": {},
   "outputs": [],
   "source": [
    "https://en.wikipedia.org/w/api.php?action=query&list=search&srsearch=Python&format=json"
   ]
  },
  {
   "cell_type": "markdown",
   "metadata": {},
   "source": [
    "## [Third-party packages](https://pypi.org/)\n",
    "\n",
    "The Python Package Index (PyPI) is a repository of software for the Python programming language.\n",
    "\n",
    "For making HTTP requests, consider using the standard [`urllib`](https://docs.python.org/3/howto/urllib2.html#wrapping-it-up) module and making it [backwards-compatible](https://python-future.org/compatible_idioms.html#urllib-module). Even the Python documentation [recommends](https://docs.python.org/3/library/urllib.request.html#module-urllib.request) a third-party package over this standard library module.\n",
    "\n",
    "```shell\n",
    "pip install requests\n",
    "```"
   ]
  },
  {
   "cell_type": "code",
   "execution_count": null,
   "metadata": {},
   "outputs": [],
   "source": [
    "pypi.org"
   ]
  },
  {
   "cell_type": "markdown",
   "metadata": {},
   "source": [
    "## [Virtual Environments](https://docs.python.org/3/tutorial/venv.html#virtual-environments-and-packages)\n",
    "\n",
    "Python applications will often use packages and modules that don’t come as part of the standard library. Applications will sometimes need a specific version of a library, because the application may require that a particular bug has been fixed or the application may be written using an obsolete version of the library’s interface.\n",
    "\n",
    "This means it may not be possible for one Python installation to meet the requirements of every application. If application A needs version 1.0 of a particular module but application B needs version 2.0, then the requirements are in conflict and installing either version 1.0 or 2.0 will leave one application unable to run.\n",
    "\n",
    "The solution for this problem is to create a virtual environment, a self-contained directory tree that contains a Python installation for a particular version of Python, plus a number of additional packages.\n",
    "\n",
    "Different applications can then use different virtual environments. To resolve the earlier example of conflicting requirements, application A can have its own virtual environment with version 1.0 installed while application B has another virtual environment with version 2.0. If application B requires a library be upgraded to version 3.0, this will not affect application A’s environment."
   ]
  },
  {
   "cell_type": "markdown",
   "metadata": {},
   "source": [
    "### [Pipenv](https://pipenv.readthedocs.io/en/latest/)\n",
    "\n",
    "There are many options and you can learn them as you progress. Right now, we'll use the package `pipenv` to manage our virtual environments so that our system-installed Python directory will stay clean.\n",
    "\n",
    "```shell\n",
    "pip install pipenv\n",
    "```"
   ]
  },
  {
   "cell_type": "markdown",
   "metadata": {},
   "source": [
    "### [Requirements.txt](https://pip.readthedocs.io/en/latest/user_guide/#requirements-files)\n",
    "\n",
    "“Requirements files” are files containing a list of items to be installed using pip install like so:\n",
    "\n",
    "```shell\n",
    "pip install -r requirements.txt\n",
    "```\n",
    "\n",
    "To create the requirements file for your project:\n",
    "\n",
    "```shell\n",
    "pip freeze > requirements.txt\n",
    "```"
   ]
  },
  {
   "cell_type": "code",
   "execution_count": null,
   "metadata": {},
   "outputs": [],
   "source": [
    "response = requests.get('http://google.com')\n",
    "response.content\n",
    "\n",
    "pipenv run <command>"
   ]
  }
 ],
 "metadata": {
  "kernelspec": {
   "display_name": "Python 3",
   "language": "python",
   "name": "python3"
  },
  "language_info": {
   "codemirror_mode": {
    "name": "ipython",
    "version": 3
   },
   "file_extension": ".py",
   "mimetype": "text/x-python",
   "name": "python",
   "nbconvert_exporter": "python",
   "pygments_lexer": "ipython3",
   "version": "3.7.2"
  }
 },
 "nbformat": 4,
 "nbformat_minor": 2
}
